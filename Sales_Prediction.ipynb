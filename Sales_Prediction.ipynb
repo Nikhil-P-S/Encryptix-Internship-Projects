{
  "nbformat": 4,
  "nbformat_minor": 0,
  "metadata": {
    "colab": {
      "provenance": []
    },
    "kernelspec": {
      "name": "python3",
      "display_name": "Python 3"
    },
    "language_info": {
      "name": "python"
    }
  },
  "cells": [
    {
      "cell_type": "markdown",
      "source": [
        "## **Data Collection**\n",
        "\n"
      ],
      "metadata": {
        "id": "dASp5gZ5oDHn"
      }
    },
    {
      "cell_type": "markdown",
      "source": [
        "**Loading Data**"
      ],
      "metadata": {
        "id": "m9K2MiI1M_DT"
      }
    },
    {
      "cell_type": "code",
      "execution_count": null,
      "metadata": {
        "id": "mkPYqyK6FFLU"
      },
      "outputs": [],
      "source": [
        "import pandas as pd"
      ]
    },
    {
      "cell_type": "code",
      "source": [
        "data = pd.read_csv('/content/advertising.csv')"
      ],
      "metadata": {
        "id": "bXTPv102H0VB"
      },
      "execution_count": null,
      "outputs": []
    },
    {
      "cell_type": "code",
      "source": [
        "data.head()"
      ],
      "metadata": {
        "colab": {
          "base_uri": "https://localhost:8080/",
          "height": 206
        },
        "id": "stAIvP4ZID63",
        "outputId": "750344ae-7645-48b7-fa3e-bb2399866f34"
      },
      "execution_count": null,
      "outputs": [
        {
          "output_type": "execute_result",
          "data": {
            "text/plain": [
              "      TV  Radio  Newspaper  Sales\n",
              "0  230.1   37.8       69.2   22.1\n",
              "1   44.5   39.3       45.1   10.4\n",
              "2   17.2   45.9       69.3   12.0\n",
              "3  151.5   41.3       58.5   16.5\n",
              "4  180.8   10.8       58.4   17.9"
            ],
            "text/html": [
              "\n",
              "  <div id=\"df-657f4240-5411-4d56-a9b3-f760bb815c96\" class=\"colab-df-container\">\n",
              "    <div>\n",
              "<style scoped>\n",
              "    .dataframe tbody tr th:only-of-type {\n",
              "        vertical-align: middle;\n",
              "    }\n",
              "\n",
              "    .dataframe tbody tr th {\n",
              "        vertical-align: top;\n",
              "    }\n",
              "\n",
              "    .dataframe thead th {\n",
              "        text-align: right;\n",
              "    }\n",
              "</style>\n",
              "<table border=\"1\" class=\"dataframe\">\n",
              "  <thead>\n",
              "    <tr style=\"text-align: right;\">\n",
              "      <th></th>\n",
              "      <th>TV</th>\n",
              "      <th>Radio</th>\n",
              "      <th>Newspaper</th>\n",
              "      <th>Sales</th>\n",
              "    </tr>\n",
              "  </thead>\n",
              "  <tbody>\n",
              "    <tr>\n",
              "      <th>0</th>\n",
              "      <td>230.1</td>\n",
              "      <td>37.8</td>\n",
              "      <td>69.2</td>\n",
              "      <td>22.1</td>\n",
              "    </tr>\n",
              "    <tr>\n",
              "      <th>1</th>\n",
              "      <td>44.5</td>\n",
              "      <td>39.3</td>\n",
              "      <td>45.1</td>\n",
              "      <td>10.4</td>\n",
              "    </tr>\n",
              "    <tr>\n",
              "      <th>2</th>\n",
              "      <td>17.2</td>\n",
              "      <td>45.9</td>\n",
              "      <td>69.3</td>\n",
              "      <td>12.0</td>\n",
              "    </tr>\n",
              "    <tr>\n",
              "      <th>3</th>\n",
              "      <td>151.5</td>\n",
              "      <td>41.3</td>\n",
              "      <td>58.5</td>\n",
              "      <td>16.5</td>\n",
              "    </tr>\n",
              "    <tr>\n",
              "      <th>4</th>\n",
              "      <td>180.8</td>\n",
              "      <td>10.8</td>\n",
              "      <td>58.4</td>\n",
              "      <td>17.9</td>\n",
              "    </tr>\n",
              "  </tbody>\n",
              "</table>\n",
              "</div>\n",
              "    <div class=\"colab-df-buttons\">\n",
              "\n",
              "  <div class=\"colab-df-container\">\n",
              "    <button class=\"colab-df-convert\" onclick=\"convertToInteractive('df-657f4240-5411-4d56-a9b3-f760bb815c96')\"\n",
              "            title=\"Convert this dataframe to an interactive table.\"\n",
              "            style=\"display:none;\">\n",
              "\n",
              "  <svg xmlns=\"http://www.w3.org/2000/svg\" height=\"24px\" viewBox=\"0 -960 960 960\">\n",
              "    <path d=\"M120-120v-720h720v720H120Zm60-500h600v-160H180v160Zm220 220h160v-160H400v160Zm0 220h160v-160H400v160ZM180-400h160v-160H180v160Zm440 0h160v-160H620v160ZM180-180h160v-160H180v160Zm440 0h160v-160H620v160Z\"/>\n",
              "  </svg>\n",
              "    </button>\n",
              "\n",
              "  <style>\n",
              "    .colab-df-container {\n",
              "      display:flex;\n",
              "      gap: 12px;\n",
              "    }\n",
              "\n",
              "    .colab-df-convert {\n",
              "      background-color: #E8F0FE;\n",
              "      border: none;\n",
              "      border-radius: 50%;\n",
              "      cursor: pointer;\n",
              "      display: none;\n",
              "      fill: #1967D2;\n",
              "      height: 32px;\n",
              "      padding: 0 0 0 0;\n",
              "      width: 32px;\n",
              "    }\n",
              "\n",
              "    .colab-df-convert:hover {\n",
              "      background-color: #E2EBFA;\n",
              "      box-shadow: 0px 1px 2px rgba(60, 64, 67, 0.3), 0px 1px 3px 1px rgba(60, 64, 67, 0.15);\n",
              "      fill: #174EA6;\n",
              "    }\n",
              "\n",
              "    .colab-df-buttons div {\n",
              "      margin-bottom: 4px;\n",
              "    }\n",
              "\n",
              "    [theme=dark] .colab-df-convert {\n",
              "      background-color: #3B4455;\n",
              "      fill: #D2E3FC;\n",
              "    }\n",
              "\n",
              "    [theme=dark] .colab-df-convert:hover {\n",
              "      background-color: #434B5C;\n",
              "      box-shadow: 0px 1px 3px 1px rgba(0, 0, 0, 0.15);\n",
              "      filter: drop-shadow(0px 1px 2px rgba(0, 0, 0, 0.3));\n",
              "      fill: #FFFFFF;\n",
              "    }\n",
              "  </style>\n",
              "\n",
              "    <script>\n",
              "      const buttonEl =\n",
              "        document.querySelector('#df-657f4240-5411-4d56-a9b3-f760bb815c96 button.colab-df-convert');\n",
              "      buttonEl.style.display =\n",
              "        google.colab.kernel.accessAllowed ? 'block' : 'none';\n",
              "\n",
              "      async function convertToInteractive(key) {\n",
              "        const element = document.querySelector('#df-657f4240-5411-4d56-a9b3-f760bb815c96');\n",
              "        const dataTable =\n",
              "          await google.colab.kernel.invokeFunction('convertToInteractive',\n",
              "                                                    [key], {});\n",
              "        if (!dataTable) return;\n",
              "\n",
              "        const docLinkHtml = 'Like what you see? Visit the ' +\n",
              "          '<a target=\"_blank\" href=https://colab.research.google.com/notebooks/data_table.ipynb>data table notebook</a>'\n",
              "          + ' to learn more about interactive tables.';\n",
              "        element.innerHTML = '';\n",
              "        dataTable['output_type'] = 'display_data';\n",
              "        await google.colab.output.renderOutput(dataTable, element);\n",
              "        const docLink = document.createElement('div');\n",
              "        docLink.innerHTML = docLinkHtml;\n",
              "        element.appendChild(docLink);\n",
              "      }\n",
              "    </script>\n",
              "  </div>\n",
              "\n",
              "\n",
              "<div id=\"df-13cf8f5b-0392-43ed-9256-fdd3f0f6e962\">\n",
              "  <button class=\"colab-df-quickchart\" onclick=\"quickchart('df-13cf8f5b-0392-43ed-9256-fdd3f0f6e962')\"\n",
              "            title=\"Suggest charts\"\n",
              "            style=\"display:none;\">\n",
              "\n",
              "<svg xmlns=\"http://www.w3.org/2000/svg\" height=\"24px\"viewBox=\"0 0 24 24\"\n",
              "     width=\"24px\">\n",
              "    <g>\n",
              "        <path d=\"M19 3H5c-1.1 0-2 .9-2 2v14c0 1.1.9 2 2 2h14c1.1 0 2-.9 2-2V5c0-1.1-.9-2-2-2zM9 17H7v-7h2v7zm4 0h-2V7h2v10zm4 0h-2v-4h2v4z\"/>\n",
              "    </g>\n",
              "</svg>\n",
              "  </button>\n",
              "\n",
              "<style>\n",
              "  .colab-df-quickchart {\n",
              "      --bg-color: #E8F0FE;\n",
              "      --fill-color: #1967D2;\n",
              "      --hover-bg-color: #E2EBFA;\n",
              "      --hover-fill-color: #174EA6;\n",
              "      --disabled-fill-color: #AAA;\n",
              "      --disabled-bg-color: #DDD;\n",
              "  }\n",
              "\n",
              "  [theme=dark] .colab-df-quickchart {\n",
              "      --bg-color: #3B4455;\n",
              "      --fill-color: #D2E3FC;\n",
              "      --hover-bg-color: #434B5C;\n",
              "      --hover-fill-color: #FFFFFF;\n",
              "      --disabled-bg-color: #3B4455;\n",
              "      --disabled-fill-color: #666;\n",
              "  }\n",
              "\n",
              "  .colab-df-quickchart {\n",
              "    background-color: var(--bg-color);\n",
              "    border: none;\n",
              "    border-radius: 50%;\n",
              "    cursor: pointer;\n",
              "    display: none;\n",
              "    fill: var(--fill-color);\n",
              "    height: 32px;\n",
              "    padding: 0;\n",
              "    width: 32px;\n",
              "  }\n",
              "\n",
              "  .colab-df-quickchart:hover {\n",
              "    background-color: var(--hover-bg-color);\n",
              "    box-shadow: 0 1px 2px rgba(60, 64, 67, 0.3), 0 1px 3px 1px rgba(60, 64, 67, 0.15);\n",
              "    fill: var(--button-hover-fill-color);\n",
              "  }\n",
              "\n",
              "  .colab-df-quickchart-complete:disabled,\n",
              "  .colab-df-quickchart-complete:disabled:hover {\n",
              "    background-color: var(--disabled-bg-color);\n",
              "    fill: var(--disabled-fill-color);\n",
              "    box-shadow: none;\n",
              "  }\n",
              "\n",
              "  .colab-df-spinner {\n",
              "    border: 2px solid var(--fill-color);\n",
              "    border-color: transparent;\n",
              "    border-bottom-color: var(--fill-color);\n",
              "    animation:\n",
              "      spin 1s steps(1) infinite;\n",
              "  }\n",
              "\n",
              "  @keyframes spin {\n",
              "    0% {\n",
              "      border-color: transparent;\n",
              "      border-bottom-color: var(--fill-color);\n",
              "      border-left-color: var(--fill-color);\n",
              "    }\n",
              "    20% {\n",
              "      border-color: transparent;\n",
              "      border-left-color: var(--fill-color);\n",
              "      border-top-color: var(--fill-color);\n",
              "    }\n",
              "    30% {\n",
              "      border-color: transparent;\n",
              "      border-left-color: var(--fill-color);\n",
              "      border-top-color: var(--fill-color);\n",
              "      border-right-color: var(--fill-color);\n",
              "    }\n",
              "    40% {\n",
              "      border-color: transparent;\n",
              "      border-right-color: var(--fill-color);\n",
              "      border-top-color: var(--fill-color);\n",
              "    }\n",
              "    60% {\n",
              "      border-color: transparent;\n",
              "      border-right-color: var(--fill-color);\n",
              "    }\n",
              "    80% {\n",
              "      border-color: transparent;\n",
              "      border-right-color: var(--fill-color);\n",
              "      border-bottom-color: var(--fill-color);\n",
              "    }\n",
              "    90% {\n",
              "      border-color: transparent;\n",
              "      border-bottom-color: var(--fill-color);\n",
              "    }\n",
              "  }\n",
              "</style>\n",
              "\n",
              "  <script>\n",
              "    async function quickchart(key) {\n",
              "      const quickchartButtonEl =\n",
              "        document.querySelector('#' + key + ' button');\n",
              "      quickchartButtonEl.disabled = true;  // To prevent multiple clicks.\n",
              "      quickchartButtonEl.classList.add('colab-df-spinner');\n",
              "      try {\n",
              "        const charts = await google.colab.kernel.invokeFunction(\n",
              "            'suggestCharts', [key], {});\n",
              "      } catch (error) {\n",
              "        console.error('Error during call to suggestCharts:', error);\n",
              "      }\n",
              "      quickchartButtonEl.classList.remove('colab-df-spinner');\n",
              "      quickchartButtonEl.classList.add('colab-df-quickchart-complete');\n",
              "    }\n",
              "    (() => {\n",
              "      let quickchartButtonEl =\n",
              "        document.querySelector('#df-13cf8f5b-0392-43ed-9256-fdd3f0f6e962 button');\n",
              "      quickchartButtonEl.style.display =\n",
              "        google.colab.kernel.accessAllowed ? 'block' : 'none';\n",
              "    })();\n",
              "  </script>\n",
              "</div>\n",
              "\n",
              "    </div>\n",
              "  </div>\n"
            ],
            "application/vnd.google.colaboratory.intrinsic+json": {
              "type": "dataframe",
              "variable_name": "data",
              "summary": "{\n  \"name\": \"data\",\n  \"rows\": 200,\n  \"fields\": [\n    {\n      \"column\": \"TV\",\n      \"properties\": {\n        \"dtype\": \"number\",\n        \"std\": 85.85423631490808,\n        \"min\": 0.7,\n        \"max\": 296.4,\n        \"num_unique_values\": 190,\n        \"samples\": [\n          287.6,\n          286.0,\n          78.2\n        ],\n        \"semantic_type\": \"\",\n        \"description\": \"\"\n      }\n    },\n    {\n      \"column\": \"Radio\",\n      \"properties\": {\n        \"dtype\": \"number\",\n        \"std\": 14.846809176168724,\n        \"min\": 0.0,\n        \"max\": 49.6,\n        \"num_unique_values\": 167,\n        \"samples\": [\n          8.2,\n          36.9,\n          44.5\n        ],\n        \"semantic_type\": \"\",\n        \"description\": \"\"\n      }\n    },\n    {\n      \"column\": \"Newspaper\",\n      \"properties\": {\n        \"dtype\": \"number\",\n        \"std\": 21.778620838522826,\n        \"min\": 0.3,\n        \"max\": 114.0,\n        \"num_unique_values\": 172,\n        \"samples\": [\n          22.3,\n          5.7,\n          17.0\n        ],\n        \"semantic_type\": \"\",\n        \"description\": \"\"\n      }\n    },\n    {\n      \"column\": \"Sales\",\n      \"properties\": {\n        \"dtype\": \"number\",\n        \"std\": 5.283892252561876,\n        \"min\": 1.6,\n        \"max\": 27.0,\n        \"num_unique_values\": 121,\n        \"samples\": [\n          19.8,\n          22.6,\n          17.9\n        ],\n        \"semantic_type\": \"\",\n        \"description\": \"\"\n      }\n    }\n  ]\n}"
            }
          },
          "metadata": {},
          "execution_count": 3
        }
      ]
    },
    {
      "cell_type": "code",
      "source": [
        "data.info()"
      ],
      "metadata": {
        "colab": {
          "base_uri": "https://localhost:8080/"
        },
        "id": "wzApfe-CIuBX",
        "outputId": "081839ab-71bf-40ef-e98e-c54ffa6a723e"
      },
      "execution_count": null,
      "outputs": [
        {
          "output_type": "stream",
          "name": "stdout",
          "text": [
            "<class 'pandas.core.frame.DataFrame'>\n",
            "RangeIndex: 200 entries, 0 to 199\n",
            "Data columns (total 4 columns):\n",
            " #   Column     Non-Null Count  Dtype  \n",
            "---  ------     --------------  -----  \n",
            " 0   TV         200 non-null    float64\n",
            " 1   Radio      200 non-null    float64\n",
            " 2   Newspaper  200 non-null    float64\n",
            " 3   Sales      200 non-null    float64\n",
            "dtypes: float64(4)\n",
            "memory usage: 6.4 KB\n"
          ]
        }
      ]
    },
    {
      "cell_type": "markdown",
      "source": [
        "## **DATA PREPROCESSING**\n",
        "\n"
      ],
      "metadata": {
        "id": "QHFMU0IBNFQ7"
      }
    },
    {
      "cell_type": "markdown",
      "source": [
        "**Data Cleaning**"
      ],
      "metadata": {
        "id": "5eDD8pIgMLZr"
      }
    },
    {
      "cell_type": "code",
      "source": [
        "data.duplicated().sum()"
      ],
      "metadata": {
        "colab": {
          "base_uri": "https://localhost:8080/"
        },
        "id": "qx7vwH0ONg27",
        "outputId": "128e9091-c1e6-4a2d-9c38-f73fd04b4e88"
      },
      "execution_count": null,
      "outputs": [
        {
          "output_type": "execute_result",
          "data": {
            "text/plain": [
              "0"
            ]
          },
          "metadata": {},
          "execution_count": 5
        }
      ]
    },
    {
      "cell_type": "code",
      "source": [
        "data.isnull()"
      ],
      "metadata": {
        "colab": {
          "base_uri": "https://localhost:8080/",
          "height": 423
        },
        "id": "vmZMeT6YIF11",
        "outputId": "6e12d762-4c2c-47a2-dd61-3b1a0d522e9d"
      },
      "execution_count": null,
      "outputs": [
        {
          "output_type": "execute_result",
          "data": {
            "text/plain": [
              "        TV  Radio  Newspaper  Sales\n",
              "0    False  False      False  False\n",
              "1    False  False      False  False\n",
              "2    False  False      False  False\n",
              "3    False  False      False  False\n",
              "4    False  False      False  False\n",
              "..     ...    ...        ...    ...\n",
              "195  False  False      False  False\n",
              "196  False  False      False  False\n",
              "197  False  False      False  False\n",
              "198  False  False      False  False\n",
              "199  False  False      False  False\n",
              "\n",
              "[200 rows x 4 columns]"
            ],
            "text/html": [
              "\n",
              "  <div id=\"df-9007bd4f-2b10-4d73-b5f2-4d28f6e3721b\" class=\"colab-df-container\">\n",
              "    <div>\n",
              "<style scoped>\n",
              "    .dataframe tbody tr th:only-of-type {\n",
              "        vertical-align: middle;\n",
              "    }\n",
              "\n",
              "    .dataframe tbody tr th {\n",
              "        vertical-align: top;\n",
              "    }\n",
              "\n",
              "    .dataframe thead th {\n",
              "        text-align: right;\n",
              "    }\n",
              "</style>\n",
              "<table border=\"1\" class=\"dataframe\">\n",
              "  <thead>\n",
              "    <tr style=\"text-align: right;\">\n",
              "      <th></th>\n",
              "      <th>TV</th>\n",
              "      <th>Radio</th>\n",
              "      <th>Newspaper</th>\n",
              "      <th>Sales</th>\n",
              "    </tr>\n",
              "  </thead>\n",
              "  <tbody>\n",
              "    <tr>\n",
              "      <th>0</th>\n",
              "      <td>False</td>\n",
              "      <td>False</td>\n",
              "      <td>False</td>\n",
              "      <td>False</td>\n",
              "    </tr>\n",
              "    <tr>\n",
              "      <th>1</th>\n",
              "      <td>False</td>\n",
              "      <td>False</td>\n",
              "      <td>False</td>\n",
              "      <td>False</td>\n",
              "    </tr>\n",
              "    <tr>\n",
              "      <th>2</th>\n",
              "      <td>False</td>\n",
              "      <td>False</td>\n",
              "      <td>False</td>\n",
              "      <td>False</td>\n",
              "    </tr>\n",
              "    <tr>\n",
              "      <th>3</th>\n",
              "      <td>False</td>\n",
              "      <td>False</td>\n",
              "      <td>False</td>\n",
              "      <td>False</td>\n",
              "    </tr>\n",
              "    <tr>\n",
              "      <th>4</th>\n",
              "      <td>False</td>\n",
              "      <td>False</td>\n",
              "      <td>False</td>\n",
              "      <td>False</td>\n",
              "    </tr>\n",
              "    <tr>\n",
              "      <th>...</th>\n",
              "      <td>...</td>\n",
              "      <td>...</td>\n",
              "      <td>...</td>\n",
              "      <td>...</td>\n",
              "    </tr>\n",
              "    <tr>\n",
              "      <th>195</th>\n",
              "      <td>False</td>\n",
              "      <td>False</td>\n",
              "      <td>False</td>\n",
              "      <td>False</td>\n",
              "    </tr>\n",
              "    <tr>\n",
              "      <th>196</th>\n",
              "      <td>False</td>\n",
              "      <td>False</td>\n",
              "      <td>False</td>\n",
              "      <td>False</td>\n",
              "    </tr>\n",
              "    <tr>\n",
              "      <th>197</th>\n",
              "      <td>False</td>\n",
              "      <td>False</td>\n",
              "      <td>False</td>\n",
              "      <td>False</td>\n",
              "    </tr>\n",
              "    <tr>\n",
              "      <th>198</th>\n",
              "      <td>False</td>\n",
              "      <td>False</td>\n",
              "      <td>False</td>\n",
              "      <td>False</td>\n",
              "    </tr>\n",
              "    <tr>\n",
              "      <th>199</th>\n",
              "      <td>False</td>\n",
              "      <td>False</td>\n",
              "      <td>False</td>\n",
              "      <td>False</td>\n",
              "    </tr>\n",
              "  </tbody>\n",
              "</table>\n",
              "<p>200 rows × 4 columns</p>\n",
              "</div>\n",
              "    <div class=\"colab-df-buttons\">\n",
              "\n",
              "  <div class=\"colab-df-container\">\n",
              "    <button class=\"colab-df-convert\" onclick=\"convertToInteractive('df-9007bd4f-2b10-4d73-b5f2-4d28f6e3721b')\"\n",
              "            title=\"Convert this dataframe to an interactive table.\"\n",
              "            style=\"display:none;\">\n",
              "\n",
              "  <svg xmlns=\"http://www.w3.org/2000/svg\" height=\"24px\" viewBox=\"0 -960 960 960\">\n",
              "    <path d=\"M120-120v-720h720v720H120Zm60-500h600v-160H180v160Zm220 220h160v-160H400v160Zm0 220h160v-160H400v160ZM180-400h160v-160H180v160Zm440 0h160v-160H620v160ZM180-180h160v-160H180v160Zm440 0h160v-160H620v160Z\"/>\n",
              "  </svg>\n",
              "    </button>\n",
              "\n",
              "  <style>\n",
              "    .colab-df-container {\n",
              "      display:flex;\n",
              "      gap: 12px;\n",
              "    }\n",
              "\n",
              "    .colab-df-convert {\n",
              "      background-color: #E8F0FE;\n",
              "      border: none;\n",
              "      border-radius: 50%;\n",
              "      cursor: pointer;\n",
              "      display: none;\n",
              "      fill: #1967D2;\n",
              "      height: 32px;\n",
              "      padding: 0 0 0 0;\n",
              "      width: 32px;\n",
              "    }\n",
              "\n",
              "    .colab-df-convert:hover {\n",
              "      background-color: #E2EBFA;\n",
              "      box-shadow: 0px 1px 2px rgba(60, 64, 67, 0.3), 0px 1px 3px 1px rgba(60, 64, 67, 0.15);\n",
              "      fill: #174EA6;\n",
              "    }\n",
              "\n",
              "    .colab-df-buttons div {\n",
              "      margin-bottom: 4px;\n",
              "    }\n",
              "\n",
              "    [theme=dark] .colab-df-convert {\n",
              "      background-color: #3B4455;\n",
              "      fill: #D2E3FC;\n",
              "    }\n",
              "\n",
              "    [theme=dark] .colab-df-convert:hover {\n",
              "      background-color: #434B5C;\n",
              "      box-shadow: 0px 1px 3px 1px rgba(0, 0, 0, 0.15);\n",
              "      filter: drop-shadow(0px 1px 2px rgba(0, 0, 0, 0.3));\n",
              "      fill: #FFFFFF;\n",
              "    }\n",
              "  </style>\n",
              "\n",
              "    <script>\n",
              "      const buttonEl =\n",
              "        document.querySelector('#df-9007bd4f-2b10-4d73-b5f2-4d28f6e3721b button.colab-df-convert');\n",
              "      buttonEl.style.display =\n",
              "        google.colab.kernel.accessAllowed ? 'block' : 'none';\n",
              "\n",
              "      async function convertToInteractive(key) {\n",
              "        const element = document.querySelector('#df-9007bd4f-2b10-4d73-b5f2-4d28f6e3721b');\n",
              "        const dataTable =\n",
              "          await google.colab.kernel.invokeFunction('convertToInteractive',\n",
              "                                                    [key], {});\n",
              "        if (!dataTable) return;\n",
              "\n",
              "        const docLinkHtml = 'Like what you see? Visit the ' +\n",
              "          '<a target=\"_blank\" href=https://colab.research.google.com/notebooks/data_table.ipynb>data table notebook</a>'\n",
              "          + ' to learn more about interactive tables.';\n",
              "        element.innerHTML = '';\n",
              "        dataTable['output_type'] = 'display_data';\n",
              "        await google.colab.output.renderOutput(dataTable, element);\n",
              "        const docLink = document.createElement('div');\n",
              "        docLink.innerHTML = docLinkHtml;\n",
              "        element.appendChild(docLink);\n",
              "      }\n",
              "    </script>\n",
              "  </div>\n",
              "\n",
              "\n",
              "<div id=\"df-f7d9b9f8-2864-4b43-a05b-4077e5b565f4\">\n",
              "  <button class=\"colab-df-quickchart\" onclick=\"quickchart('df-f7d9b9f8-2864-4b43-a05b-4077e5b565f4')\"\n",
              "            title=\"Suggest charts\"\n",
              "            style=\"display:none;\">\n",
              "\n",
              "<svg xmlns=\"http://www.w3.org/2000/svg\" height=\"24px\"viewBox=\"0 0 24 24\"\n",
              "     width=\"24px\">\n",
              "    <g>\n",
              "        <path d=\"M19 3H5c-1.1 0-2 .9-2 2v14c0 1.1.9 2 2 2h14c1.1 0 2-.9 2-2V5c0-1.1-.9-2-2-2zM9 17H7v-7h2v7zm4 0h-2V7h2v10zm4 0h-2v-4h2v4z\"/>\n",
              "    </g>\n",
              "</svg>\n",
              "  </button>\n",
              "\n",
              "<style>\n",
              "  .colab-df-quickchart {\n",
              "      --bg-color: #E8F0FE;\n",
              "      --fill-color: #1967D2;\n",
              "      --hover-bg-color: #E2EBFA;\n",
              "      --hover-fill-color: #174EA6;\n",
              "      --disabled-fill-color: #AAA;\n",
              "      --disabled-bg-color: #DDD;\n",
              "  }\n",
              "\n",
              "  [theme=dark] .colab-df-quickchart {\n",
              "      --bg-color: #3B4455;\n",
              "      --fill-color: #D2E3FC;\n",
              "      --hover-bg-color: #434B5C;\n",
              "      --hover-fill-color: #FFFFFF;\n",
              "      --disabled-bg-color: #3B4455;\n",
              "      --disabled-fill-color: #666;\n",
              "  }\n",
              "\n",
              "  .colab-df-quickchart {\n",
              "    background-color: var(--bg-color);\n",
              "    border: none;\n",
              "    border-radius: 50%;\n",
              "    cursor: pointer;\n",
              "    display: none;\n",
              "    fill: var(--fill-color);\n",
              "    height: 32px;\n",
              "    padding: 0;\n",
              "    width: 32px;\n",
              "  }\n",
              "\n",
              "  .colab-df-quickchart:hover {\n",
              "    background-color: var(--hover-bg-color);\n",
              "    box-shadow: 0 1px 2px rgba(60, 64, 67, 0.3), 0 1px 3px 1px rgba(60, 64, 67, 0.15);\n",
              "    fill: var(--button-hover-fill-color);\n",
              "  }\n",
              "\n",
              "  .colab-df-quickchart-complete:disabled,\n",
              "  .colab-df-quickchart-complete:disabled:hover {\n",
              "    background-color: var(--disabled-bg-color);\n",
              "    fill: var(--disabled-fill-color);\n",
              "    box-shadow: none;\n",
              "  }\n",
              "\n",
              "  .colab-df-spinner {\n",
              "    border: 2px solid var(--fill-color);\n",
              "    border-color: transparent;\n",
              "    border-bottom-color: var(--fill-color);\n",
              "    animation:\n",
              "      spin 1s steps(1) infinite;\n",
              "  }\n",
              "\n",
              "  @keyframes spin {\n",
              "    0% {\n",
              "      border-color: transparent;\n",
              "      border-bottom-color: var(--fill-color);\n",
              "      border-left-color: var(--fill-color);\n",
              "    }\n",
              "    20% {\n",
              "      border-color: transparent;\n",
              "      border-left-color: var(--fill-color);\n",
              "      border-top-color: var(--fill-color);\n",
              "    }\n",
              "    30% {\n",
              "      border-color: transparent;\n",
              "      border-left-color: var(--fill-color);\n",
              "      border-top-color: var(--fill-color);\n",
              "      border-right-color: var(--fill-color);\n",
              "    }\n",
              "    40% {\n",
              "      border-color: transparent;\n",
              "      border-right-color: var(--fill-color);\n",
              "      border-top-color: var(--fill-color);\n",
              "    }\n",
              "    60% {\n",
              "      border-color: transparent;\n",
              "      border-right-color: var(--fill-color);\n",
              "    }\n",
              "    80% {\n",
              "      border-color: transparent;\n",
              "      border-right-color: var(--fill-color);\n",
              "      border-bottom-color: var(--fill-color);\n",
              "    }\n",
              "    90% {\n",
              "      border-color: transparent;\n",
              "      border-bottom-color: var(--fill-color);\n",
              "    }\n",
              "  }\n",
              "</style>\n",
              "\n",
              "  <script>\n",
              "    async function quickchart(key) {\n",
              "      const quickchartButtonEl =\n",
              "        document.querySelector('#' + key + ' button');\n",
              "      quickchartButtonEl.disabled = true;  // To prevent multiple clicks.\n",
              "      quickchartButtonEl.classList.add('colab-df-spinner');\n",
              "      try {\n",
              "        const charts = await google.colab.kernel.invokeFunction(\n",
              "            'suggestCharts', [key], {});\n",
              "      } catch (error) {\n",
              "        console.error('Error during call to suggestCharts:', error);\n",
              "      }\n",
              "      quickchartButtonEl.classList.remove('colab-df-spinner');\n",
              "      quickchartButtonEl.classList.add('colab-df-quickchart-complete');\n",
              "    }\n",
              "    (() => {\n",
              "      let quickchartButtonEl =\n",
              "        document.querySelector('#df-f7d9b9f8-2864-4b43-a05b-4077e5b565f4 button');\n",
              "      quickchartButtonEl.style.display =\n",
              "        google.colab.kernel.accessAllowed ? 'block' : 'none';\n",
              "    })();\n",
              "  </script>\n",
              "</div>\n",
              "\n",
              "    </div>\n",
              "  </div>\n"
            ],
            "application/vnd.google.colaboratory.intrinsic+json": {
              "type": "dataframe",
              "summary": "{\n  \"name\": \"data\",\n  \"rows\": 200,\n  \"fields\": [\n    {\n      \"column\": \"TV\",\n      \"properties\": {\n        \"dtype\": \"boolean\",\n        \"num_unique_values\": 1,\n        \"samples\": [\n          false\n        ],\n        \"semantic_type\": \"\",\n        \"description\": \"\"\n      }\n    },\n    {\n      \"column\": \"Radio\",\n      \"properties\": {\n        \"dtype\": \"boolean\",\n        \"num_unique_values\": 1,\n        \"samples\": [\n          false\n        ],\n        \"semantic_type\": \"\",\n        \"description\": \"\"\n      }\n    },\n    {\n      \"column\": \"Newspaper\",\n      \"properties\": {\n        \"dtype\": \"boolean\",\n        \"num_unique_values\": 1,\n        \"samples\": [\n          false\n        ],\n        \"semantic_type\": \"\",\n        \"description\": \"\"\n      }\n    },\n    {\n      \"column\": \"Sales\",\n      \"properties\": {\n        \"dtype\": \"boolean\",\n        \"num_unique_values\": 1,\n        \"samples\": [\n          false\n        ],\n        \"semantic_type\": \"\",\n        \"description\": \"\"\n      }\n    }\n  ]\n}"
            }
          },
          "metadata": {},
          "execution_count": 6
        }
      ]
    },
    {
      "cell_type": "code",
      "source": [
        "data.isnull().sum()"
      ],
      "metadata": {
        "colab": {
          "base_uri": "https://localhost:8080/"
        },
        "id": "yx_1JiBnITPO",
        "outputId": "81ff073e-0cca-4b9d-8614-db39cb7c2dd4"
      },
      "execution_count": null,
      "outputs": [
        {
          "output_type": "execute_result",
          "data": {
            "text/plain": [
              "TV           0\n",
              "Radio        0\n",
              "Newspaper    0\n",
              "Sales        0\n",
              "dtype: int64"
            ]
          },
          "metadata": {},
          "execution_count": 7
        }
      ]
    },
    {
      "cell_type": "code",
      "source": [
        "data.head()"
      ],
      "metadata": {
        "colab": {
          "base_uri": "https://localhost:8080/",
          "height": 206
        },
        "id": "GYiN-vJns364",
        "outputId": "0215f16c-ea1c-4820-f70d-46b4f0b736d4"
      },
      "execution_count": null,
      "outputs": [
        {
          "output_type": "execute_result",
          "data": {
            "text/plain": [
              "      TV  Radio  Newspaper  Sales\n",
              "0  230.1   37.8       69.2   22.1\n",
              "1   44.5   39.3       45.1   10.4\n",
              "2   17.2   45.9       69.3   12.0\n",
              "3  151.5   41.3       58.5   16.5\n",
              "4  180.8   10.8       58.4   17.9"
            ],
            "text/html": [
              "\n",
              "  <div id=\"df-42d2d86f-6e39-4dcb-9d84-ea9d780e4fb2\" class=\"colab-df-container\">\n",
              "    <div>\n",
              "<style scoped>\n",
              "    .dataframe tbody tr th:only-of-type {\n",
              "        vertical-align: middle;\n",
              "    }\n",
              "\n",
              "    .dataframe tbody tr th {\n",
              "        vertical-align: top;\n",
              "    }\n",
              "\n",
              "    .dataframe thead th {\n",
              "        text-align: right;\n",
              "    }\n",
              "</style>\n",
              "<table border=\"1\" class=\"dataframe\">\n",
              "  <thead>\n",
              "    <tr style=\"text-align: right;\">\n",
              "      <th></th>\n",
              "      <th>TV</th>\n",
              "      <th>Radio</th>\n",
              "      <th>Newspaper</th>\n",
              "      <th>Sales</th>\n",
              "    </tr>\n",
              "  </thead>\n",
              "  <tbody>\n",
              "    <tr>\n",
              "      <th>0</th>\n",
              "      <td>230.1</td>\n",
              "      <td>37.8</td>\n",
              "      <td>69.2</td>\n",
              "      <td>22.1</td>\n",
              "    </tr>\n",
              "    <tr>\n",
              "      <th>1</th>\n",
              "      <td>44.5</td>\n",
              "      <td>39.3</td>\n",
              "      <td>45.1</td>\n",
              "      <td>10.4</td>\n",
              "    </tr>\n",
              "    <tr>\n",
              "      <th>2</th>\n",
              "      <td>17.2</td>\n",
              "      <td>45.9</td>\n",
              "      <td>69.3</td>\n",
              "      <td>12.0</td>\n",
              "    </tr>\n",
              "    <tr>\n",
              "      <th>3</th>\n",
              "      <td>151.5</td>\n",
              "      <td>41.3</td>\n",
              "      <td>58.5</td>\n",
              "      <td>16.5</td>\n",
              "    </tr>\n",
              "    <tr>\n",
              "      <th>4</th>\n",
              "      <td>180.8</td>\n",
              "      <td>10.8</td>\n",
              "      <td>58.4</td>\n",
              "      <td>17.9</td>\n",
              "    </tr>\n",
              "  </tbody>\n",
              "</table>\n",
              "</div>\n",
              "    <div class=\"colab-df-buttons\">\n",
              "\n",
              "  <div class=\"colab-df-container\">\n",
              "    <button class=\"colab-df-convert\" onclick=\"convertToInteractive('df-42d2d86f-6e39-4dcb-9d84-ea9d780e4fb2')\"\n",
              "            title=\"Convert this dataframe to an interactive table.\"\n",
              "            style=\"display:none;\">\n",
              "\n",
              "  <svg xmlns=\"http://www.w3.org/2000/svg\" height=\"24px\" viewBox=\"0 -960 960 960\">\n",
              "    <path d=\"M120-120v-720h720v720H120Zm60-500h600v-160H180v160Zm220 220h160v-160H400v160Zm0 220h160v-160H400v160ZM180-400h160v-160H180v160Zm440 0h160v-160H620v160ZM180-180h160v-160H180v160Zm440 0h160v-160H620v160Z\"/>\n",
              "  </svg>\n",
              "    </button>\n",
              "\n",
              "  <style>\n",
              "    .colab-df-container {\n",
              "      display:flex;\n",
              "      gap: 12px;\n",
              "    }\n",
              "\n",
              "    .colab-df-convert {\n",
              "      background-color: #E8F0FE;\n",
              "      border: none;\n",
              "      border-radius: 50%;\n",
              "      cursor: pointer;\n",
              "      display: none;\n",
              "      fill: #1967D2;\n",
              "      height: 32px;\n",
              "      padding: 0 0 0 0;\n",
              "      width: 32px;\n",
              "    }\n",
              "\n",
              "    .colab-df-convert:hover {\n",
              "      background-color: #E2EBFA;\n",
              "      box-shadow: 0px 1px 2px rgba(60, 64, 67, 0.3), 0px 1px 3px 1px rgba(60, 64, 67, 0.15);\n",
              "      fill: #174EA6;\n",
              "    }\n",
              "\n",
              "    .colab-df-buttons div {\n",
              "      margin-bottom: 4px;\n",
              "    }\n",
              "\n",
              "    [theme=dark] .colab-df-convert {\n",
              "      background-color: #3B4455;\n",
              "      fill: #D2E3FC;\n",
              "    }\n",
              "\n",
              "    [theme=dark] .colab-df-convert:hover {\n",
              "      background-color: #434B5C;\n",
              "      box-shadow: 0px 1px 3px 1px rgba(0, 0, 0, 0.15);\n",
              "      filter: drop-shadow(0px 1px 2px rgba(0, 0, 0, 0.3));\n",
              "      fill: #FFFFFF;\n",
              "    }\n",
              "  </style>\n",
              "\n",
              "    <script>\n",
              "      const buttonEl =\n",
              "        document.querySelector('#df-42d2d86f-6e39-4dcb-9d84-ea9d780e4fb2 button.colab-df-convert');\n",
              "      buttonEl.style.display =\n",
              "        google.colab.kernel.accessAllowed ? 'block' : 'none';\n",
              "\n",
              "      async function convertToInteractive(key) {\n",
              "        const element = document.querySelector('#df-42d2d86f-6e39-4dcb-9d84-ea9d780e4fb2');\n",
              "        const dataTable =\n",
              "          await google.colab.kernel.invokeFunction('convertToInteractive',\n",
              "                                                    [key], {});\n",
              "        if (!dataTable) return;\n",
              "\n",
              "        const docLinkHtml = 'Like what you see? Visit the ' +\n",
              "          '<a target=\"_blank\" href=https://colab.research.google.com/notebooks/data_table.ipynb>data table notebook</a>'\n",
              "          + ' to learn more about interactive tables.';\n",
              "        element.innerHTML = '';\n",
              "        dataTable['output_type'] = 'display_data';\n",
              "        await google.colab.output.renderOutput(dataTable, element);\n",
              "        const docLink = document.createElement('div');\n",
              "        docLink.innerHTML = docLinkHtml;\n",
              "        element.appendChild(docLink);\n",
              "      }\n",
              "    </script>\n",
              "  </div>\n",
              "\n",
              "\n",
              "<div id=\"df-da2ee3aa-8005-4a53-b92b-02815590ec4c\">\n",
              "  <button class=\"colab-df-quickchart\" onclick=\"quickchart('df-da2ee3aa-8005-4a53-b92b-02815590ec4c')\"\n",
              "            title=\"Suggest charts\"\n",
              "            style=\"display:none;\">\n",
              "\n",
              "<svg xmlns=\"http://www.w3.org/2000/svg\" height=\"24px\"viewBox=\"0 0 24 24\"\n",
              "     width=\"24px\">\n",
              "    <g>\n",
              "        <path d=\"M19 3H5c-1.1 0-2 .9-2 2v14c0 1.1.9 2 2 2h14c1.1 0 2-.9 2-2V5c0-1.1-.9-2-2-2zM9 17H7v-7h2v7zm4 0h-2V7h2v10zm4 0h-2v-4h2v4z\"/>\n",
              "    </g>\n",
              "</svg>\n",
              "  </button>\n",
              "\n",
              "<style>\n",
              "  .colab-df-quickchart {\n",
              "      --bg-color: #E8F0FE;\n",
              "      --fill-color: #1967D2;\n",
              "      --hover-bg-color: #E2EBFA;\n",
              "      --hover-fill-color: #174EA6;\n",
              "      --disabled-fill-color: #AAA;\n",
              "      --disabled-bg-color: #DDD;\n",
              "  }\n",
              "\n",
              "  [theme=dark] .colab-df-quickchart {\n",
              "      --bg-color: #3B4455;\n",
              "      --fill-color: #D2E3FC;\n",
              "      --hover-bg-color: #434B5C;\n",
              "      --hover-fill-color: #FFFFFF;\n",
              "      --disabled-bg-color: #3B4455;\n",
              "      --disabled-fill-color: #666;\n",
              "  }\n",
              "\n",
              "  .colab-df-quickchart {\n",
              "    background-color: var(--bg-color);\n",
              "    border: none;\n",
              "    border-radius: 50%;\n",
              "    cursor: pointer;\n",
              "    display: none;\n",
              "    fill: var(--fill-color);\n",
              "    height: 32px;\n",
              "    padding: 0;\n",
              "    width: 32px;\n",
              "  }\n",
              "\n",
              "  .colab-df-quickchart:hover {\n",
              "    background-color: var(--hover-bg-color);\n",
              "    box-shadow: 0 1px 2px rgba(60, 64, 67, 0.3), 0 1px 3px 1px rgba(60, 64, 67, 0.15);\n",
              "    fill: var(--button-hover-fill-color);\n",
              "  }\n",
              "\n",
              "  .colab-df-quickchart-complete:disabled,\n",
              "  .colab-df-quickchart-complete:disabled:hover {\n",
              "    background-color: var(--disabled-bg-color);\n",
              "    fill: var(--disabled-fill-color);\n",
              "    box-shadow: none;\n",
              "  }\n",
              "\n",
              "  .colab-df-spinner {\n",
              "    border: 2px solid var(--fill-color);\n",
              "    border-color: transparent;\n",
              "    border-bottom-color: var(--fill-color);\n",
              "    animation:\n",
              "      spin 1s steps(1) infinite;\n",
              "  }\n",
              "\n",
              "  @keyframes spin {\n",
              "    0% {\n",
              "      border-color: transparent;\n",
              "      border-bottom-color: var(--fill-color);\n",
              "      border-left-color: var(--fill-color);\n",
              "    }\n",
              "    20% {\n",
              "      border-color: transparent;\n",
              "      border-left-color: var(--fill-color);\n",
              "      border-top-color: var(--fill-color);\n",
              "    }\n",
              "    30% {\n",
              "      border-color: transparent;\n",
              "      border-left-color: var(--fill-color);\n",
              "      border-top-color: var(--fill-color);\n",
              "      border-right-color: var(--fill-color);\n",
              "    }\n",
              "    40% {\n",
              "      border-color: transparent;\n",
              "      border-right-color: var(--fill-color);\n",
              "      border-top-color: var(--fill-color);\n",
              "    }\n",
              "    60% {\n",
              "      border-color: transparent;\n",
              "      border-right-color: var(--fill-color);\n",
              "    }\n",
              "    80% {\n",
              "      border-color: transparent;\n",
              "      border-right-color: var(--fill-color);\n",
              "      border-bottom-color: var(--fill-color);\n",
              "    }\n",
              "    90% {\n",
              "      border-color: transparent;\n",
              "      border-bottom-color: var(--fill-color);\n",
              "    }\n",
              "  }\n",
              "</style>\n",
              "\n",
              "  <script>\n",
              "    async function quickchart(key) {\n",
              "      const quickchartButtonEl =\n",
              "        document.querySelector('#' + key + ' button');\n",
              "      quickchartButtonEl.disabled = true;  // To prevent multiple clicks.\n",
              "      quickchartButtonEl.classList.add('colab-df-spinner');\n",
              "      try {\n",
              "        const charts = await google.colab.kernel.invokeFunction(\n",
              "            'suggestCharts', [key], {});\n",
              "      } catch (error) {\n",
              "        console.error('Error during call to suggestCharts:', error);\n",
              "      }\n",
              "      quickchartButtonEl.classList.remove('colab-df-spinner');\n",
              "      quickchartButtonEl.classList.add('colab-df-quickchart-complete');\n",
              "    }\n",
              "    (() => {\n",
              "      let quickchartButtonEl =\n",
              "        document.querySelector('#df-da2ee3aa-8005-4a53-b92b-02815590ec4c button');\n",
              "      quickchartButtonEl.style.display =\n",
              "        google.colab.kernel.accessAllowed ? 'block' : 'none';\n",
              "    })();\n",
              "  </script>\n",
              "</div>\n",
              "\n",
              "    </div>\n",
              "  </div>\n"
            ],
            "application/vnd.google.colaboratory.intrinsic+json": {
              "type": "dataframe",
              "variable_name": "data",
              "summary": "{\n  \"name\": \"data\",\n  \"rows\": 200,\n  \"fields\": [\n    {\n      \"column\": \"TV\",\n      \"properties\": {\n        \"dtype\": \"number\",\n        \"std\": 85.85423631490808,\n        \"min\": 0.7,\n        \"max\": 296.4,\n        \"num_unique_values\": 190,\n        \"samples\": [\n          287.6,\n          286.0,\n          78.2\n        ],\n        \"semantic_type\": \"\",\n        \"description\": \"\"\n      }\n    },\n    {\n      \"column\": \"Radio\",\n      \"properties\": {\n        \"dtype\": \"number\",\n        \"std\": 14.846809176168724,\n        \"min\": 0.0,\n        \"max\": 49.6,\n        \"num_unique_values\": 167,\n        \"samples\": [\n          8.2,\n          36.9,\n          44.5\n        ],\n        \"semantic_type\": \"\",\n        \"description\": \"\"\n      }\n    },\n    {\n      \"column\": \"Newspaper\",\n      \"properties\": {\n        \"dtype\": \"number\",\n        \"std\": 21.778620838522826,\n        \"min\": 0.3,\n        \"max\": 114.0,\n        \"num_unique_values\": 172,\n        \"samples\": [\n          22.3,\n          5.7,\n          17.0\n        ],\n        \"semantic_type\": \"\",\n        \"description\": \"\"\n      }\n    },\n    {\n      \"column\": \"Sales\",\n      \"properties\": {\n        \"dtype\": \"number\",\n        \"std\": 5.283892252561876,\n        \"min\": 1.6,\n        \"max\": 27.0,\n        \"num_unique_values\": 121,\n        \"samples\": [\n          19.8,\n          22.6,\n          17.9\n        ],\n        \"semantic_type\": \"\",\n        \"description\": \"\"\n      }\n    }\n  ]\n}"
            }
          },
          "metadata": {},
          "execution_count": 8
        }
      ]
    },
    {
      "cell_type": "code",
      "source": [
        "data.dtypes"
      ],
      "metadata": {
        "colab": {
          "base_uri": "https://localhost:8080/"
        },
        "id": "3SxCy5Lgn_g-",
        "outputId": "1fb269db-2632-406c-efbc-002baa9f22e2"
      },
      "execution_count": null,
      "outputs": [
        {
          "output_type": "execute_result",
          "data": {
            "text/plain": [
              "TV           float64\n",
              "Radio        float64\n",
              "Newspaper    float64\n",
              "Sales        float64\n",
              "dtype: object"
            ]
          },
          "metadata": {},
          "execution_count": 10
        }
      ]
    },
    {
      "cell_type": "markdown",
      "source": [
        "**Outlier Detection and Removal**"
      ],
      "metadata": {
        "id": "hl3v79VDMvTS"
      }
    },
    {
      "cell_type": "code",
      "source": [
        "import seaborn as sns\n",
        "import matplotlib.pyplot as plt\n",
        "import numpy as np"
      ],
      "metadata": {
        "id": "9UBkmQx_I0Xb"
      },
      "execution_count": null,
      "outputs": []
    },
    {
      "cell_type": "code",
      "source": [
        "def boxplot(str,column):\n",
        "    plt.figure(figsize=(8, 6))\n",
        "    sns.boxplot(y=data[column])\n",
        "    plt.title(f'Box Plot of {column} {str}')\n",
        "    plt.show()"
      ],
      "metadata": {
        "id": "9SoKcdnqNDXh"
      },
      "execution_count": null,
      "outputs": []
    },
    {
      "cell_type": "code",
      "source": [
        "for column in data:\n",
        "\n",
        "    print(\"Before Outlier Removing: \",column)\n",
        "\n",
        "    boxplot('Before Outlier',column)\n",
        "\n",
        "    print(\"After Outlier Removing: \",column)\n",
        "\n",
        "    q1 = data[column].quantile(0.25)\n",
        "    q3 = data[column].quantile(0.75)\n",
        "    iqr = q3 - q1\n",
        "\n",
        "    lower_bound = q1 - 1.5 * iqr\n",
        "    upper_bound = q3 + 1.5 * iqr\n",
        "\n",
        "    data = data.loc[(data[column] > lower_bound) & (data[column] < upper_bound)]\n",
        "\n",
        "    boxplot('After Outlier',column)\n",
        "\n"
      ],
      "metadata": {
        "colab": {
          "base_uri": "https://localhost:8080/",
          "height": 1000
        },
        "id": "HVkjTUpZI91O",
        "outputId": "87e6b016-fe5e-48bb-9fe6-9d74b0c1cb33"
      },
      "execution_count": null,
      "outputs": [
        {
          "output_type": "stream",
          "name": "stdout",
          "text": [
            "Before Outlier Removing:  TV\n"
          ]
        },
        {
          "output_type": "display_data",
          "data": {
            "text/plain": [
              "<Figure size 800x600 with 1 Axes>"
            ],
            "image/png": "[encoded data removed]"
          },
          "metadata": {}
        },
        {
          "output_type": "stream",
          "name": "stdout",
          "text": [
            "After Outlier Removing:  TV\n"
          ]
        },
        {
          "output_type": "display_data",
          "data": {
            "text/plain": [
              "<Figure size 800x600 with 1 Axes>"
            ],
            "image/png": "[encoded data removed]"
          },
          "metadata": {}
        },
        {
          "output_type": "stream",
          "name": "stdout",
          "text": [
            "Before Outlier Removing:  Radio\n"
          ]
        },
        {
          "output_type": "display_data",
          "data": {
            "text/plain": [
              "<Figure size 800x600 with 1 Axes>"
            ],
            "image/png": "[encoded data removed]"
          },
          "metadata": {}
        },
        {
          "output_type": "stream",
          "name": "stdout",
          "text": [
            "After Outlier Removing:  Radio\n"
          ]
        },
        {
          "output_type": "display_data",
          "data": {
            "text/plain": [
              "<Figure size 800x600 with 1 Axes>"
            ],
            "image/png": "[encoded data removed]"
          },
          "metadata": {}
        },
        {
          "output_type": "stream",
          "name": "stdout",
          "text": [
            "Before Outlier Removing:  Newspaper\n"
          ]
        },
        {
          "output_type": "display_data",
          "data": {
            "text/plain": [
              "<Figure size 800x600 with 1 Axes>"
            ],
            "image/png": "[encoded data removed]"
          },
          "metadata": {}
        },
        {
          "output_type": "stream",
          "name": "stdout",
          "text": [
            "After Outlier Removing:  Newspaper\n"
          ]
        },
        {
          "output_type": "display_data",
          "data": {
            "text/plain": [
              "<Figure size 800x600 with 1 Axes>"
            ],
            "image/png": "[encoded data removed]"
          },
          "metadata": {}
        },
        {
          "output_type": "stream",
          "name": "stdout",
          "text": [
            "Before Outlier Removing:  Sales\n"
          ]
        },
        {
          "output_type": "display_data",
          "data": {
            "text/plain": [
              "<Figure size 800x600 with 1 Axes>"
            ],
            "image/png": "[encoded data removed]"
          },
          "metadata": {}
        },
        {
          "output_type": "stream",
          "name": "stdout",
          "text": [
            "After Outlier Removing:  Sales\n"
          ]
        },
        {
          "output_type": "display_data",
          "data": {
            "text/plain": [
              "<Figure size 800x600 with 1 Axes>"
            ],
            "image/png": "[encoded data removed]"
          },
          "metadata": {}
        }
      ]
    },
    {
      "cell_type": "code",
      "source": [
        "data.head()"
      ],
      "metadata": {
        "colab": {
          "base_uri": "https://localhost:8080/",
          "height": 206
        },
        "id": "sLKrWtlfrgJQ",
        "outputId": "eb72fdcf-7d40-4fa9-ae51-c50bb8f3fa8a"
      },
      "execution_count": null,
      "outputs": [
        {
          "output_type": "execute_result",
          "data": {
            "text/plain": [
              "      TV  Radio  Newspaper  Sales\n",
              "0  230.1   37.8       69.2   22.1\n",
              "1   44.5   39.3       45.1   10.4\n",
              "2   17.2   45.9       69.3   12.0\n",
              "3  151.5   41.3       58.5   16.5\n",
              "4  180.8   10.8       58.4   17.9"
            ],
            "text/html": [
              "\n",
              "  <div id=\"df-21515a9f-5557-4d4e-846a-a0a3e33ba7af\" class=\"colab-df-container\">\n",
              "    <div>\n",
              "<style scoped>\n",
              "    .dataframe tbody tr th:only-of-type {\n",
              "        vertical-align: middle;\n",
              "    }\n",
              "\n",
              "    .dataframe tbody tr th {\n",
              "        vertical-align: top;\n",
              "    }\n",
              "\n",
              "    .dataframe thead th {\n",
              "        text-align: right;\n",
              "    }\n",
              "</style>\n",
              "<table border=\"1\" class=\"dataframe\">\n",
              "  <thead>\n",
              "    <tr style=\"text-align: right;\">\n",
              "      <th></th>\n",
              "      <th>TV</th>\n",
              "      <th>Radio</th>\n",
              "      <th>Newspaper</th>\n",
              "      <th>Sales</th>\n",
              "    </tr>\n",
              "  </thead>\n",
              "  <tbody>\n",
              "    <tr>\n",
              "      <th>0</th>\n",
              "      <td>230.1</td>\n",
              "      <td>37.8</td>\n",
              "      <td>69.2</td>\n",
              "      <td>22.1</td>\n",
              "    </tr>\n",
              "    <tr>\n",
              "      <th>1</th>\n",
              "      <td>44.5</td>\n",
              "      <td>39.3</td>\n",
              "      <td>45.1</td>\n",
              "      <td>10.4</td>\n",
              "    </tr>\n",
              "    <tr>\n",
              "      <th>2</th>\n",
              "      <td>17.2</td>\n",
              "      <td>45.9</td>\n",
              "      <td>69.3</td>\n",
              "      <td>12.0</td>\n",
              "    </tr>\n",
              "    <tr>\n",
              "      <th>3</th>\n",
              "      <td>151.5</td>\n",
              "      <td>41.3</td>\n",
              "      <td>58.5</td>\n",
              "      <td>16.5</td>\n",
              "    </tr>\n",
              "    <tr>\n",
              "      <th>4</th>\n",
              "      <td>180.8</td>\n",
              "      <td>10.8</td>\n",
              "      <td>58.4</td>\n",
              "      <td>17.9</td>\n",
              "    </tr>\n",
              "  </tbody>\n",
              "</table>\n",
              "</div>\n",
              "    <div class=\"colab-df-buttons\">\n",
              "\n",
              "  <div class=\"colab-df-container\">\n",
              "    <button class=\"colab-df-convert\" onclick=\"convertToInteractive('df-21515a9f-5557-4d4e-846a-a0a3e33ba7af')\"\n",
              "            title=\"Convert this dataframe to an interactive table.\"\n",
              "            style=\"display:none;\">\n",
              "\n",
              "  <svg xmlns=\"http://www.w3.org/2000/svg\" height=\"24px\" viewBox=\"0 -960 960 960\">\n",
              "    <path d=\"M120-120v-720h720v720H120Zm60-500h600v-160H180v160Zm220 220h160v-160H400v160Zm0 220h160v-160H400v160ZM180-400h160v-160H180v160Zm440 0h160v-160H620v160ZM180-180h160v-160H180v160Zm440 0h160v-160H620v160Z\"/>\n",
              "  </svg>\n",
              "    </button>\n",
              "\n",
              "  <style>\n",
              "    .colab-df-container {\n",
              "      display:flex;\n",
              "      gap: 12px;\n",
              "    }\n",
              "\n",
              "    .colab-df-convert {\n",
              "      background-color: #E8F0FE;\n",
              "      border: none;\n",
              "      border-radius: 50%;\n",
              "      cursor: pointer;\n",
              "      display: none;\n",
              "      fill: #1967D2;\n",
              "      height: 32px;\n",
              "      padding: 0 0 0 0;\n",
              "      width: 32px;\n",
              "    }\n",
              "\n",
              "    .colab-df-convert:hover {\n",
              "      background-color: #E2EBFA;\n",
              "      box-shadow: 0px 1px 2px rgba(60, 64, 67, 0.3), 0px 1px 3px 1px rgba(60, 64, 67, 0.15);\n",
              "      fill: #174EA6;\n",
              "    }\n",
              "\n",
              "    .colab-df-buttons div {\n",
              "      margin-bottom: 4px;\n",
              "    }\n",
              "\n",
              "    [theme=dark] .colab-df-convert {\n",
              "      background-color: #3B4455;\n",
              "      fill: #D2E3FC;\n",
              "    }\n",
              "\n",
              "    [theme=dark] .colab-df-convert:hover {\n",
              "      background-color: #434B5C;\n",
              "      box-shadow: 0px 1px 3px 1px rgba(0, 0, 0, 0.15);\n",
              "      filter: drop-shadow(0px 1px 2px rgba(0, 0, 0, 0.3));\n",
              "      fill: #FFFFFF;\n",
              "    }\n",
              "  </style>\n",
              "\n",
              "    <script>\n",
              "      const buttonEl =\n",
              "        document.querySelector('#df-21515a9f-5557-4d4e-846a-a0a3e33ba7af button.colab-df-convert');\n",
              "      buttonEl.style.display =\n",
              "        google.colab.kernel.accessAllowed ? 'block' : 'none';\n",
              "\n",
              "      async function convertToInteractive(key) {\n",
              "        const element = document.querySelector('#df-21515a9f-5557-4d4e-846a-a0a3e33ba7af');\n",
              "        const dataTable =\n",
              "          await google.colab.kernel.invokeFunction('convertToInteractive',\n",
              "                                                    [key], {});\n",
              "        if (!dataTable) return;\n",
              "\n",
              "        const docLinkHtml = 'Like what you see? Visit the ' +\n",
              "          '<a target=\"_blank\" href=https://colab.research.google.com/notebooks/data_table.ipynb>data table notebook</a>'\n",
              "          + ' to learn more about interactive tables.';\n",
              "        element.innerHTML = '';\n",
              "        dataTable['output_type'] = 'display_data';\n",
              "        await google.colab.output.renderOutput(dataTable, element);\n",
              "        const docLink = document.createElement('div');\n",
              "        docLink.innerHTML = docLinkHtml;\n",
              "        element.appendChild(docLink);\n",
              "      }\n",
              "    </script>\n",
              "  </div>\n",
              "\n",
              "\n",
              "<div id=\"df-6024fd18-9b92-4a04-9633-1206c952a2d9\">\n",
              "  <button class=\"colab-df-quickchart\" onclick=\"quickchart('df-6024fd18-9b92-4a04-9633-1206c952a2d9')\"\n",
              "            title=\"Suggest charts\"\n",
              "            style=\"display:none;\">\n",
              "\n",
              "<svg xmlns=\"http://www.w3.org/2000/svg\" height=\"24px\"viewBox=\"0 0 24 24\"\n",
              "     width=\"24px\">\n",
              "    <g>\n",
              "        <path d=\"M19 3H5c-1.1 0-2 .9-2 2v14c0 1.1.9 2 2 2h14c1.1 0 2-.9 2-2V5c0-1.1-.9-2-2-2zM9 17H7v-7h2v7zm4 0h-2V7h2v10zm4 0h-2v-4h2v4z\"/>\n",
              "    </g>\n",
              "</svg>\n",
              "  </button>\n",
              "\n",
              "<style>\n",
              "  .colab-df-quickchart {\n",
              "      --bg-color: #E8F0FE;\n",
              "      --fill-color: #1967D2;\n",
              "      --hover-bg-color: #E2EBFA;\n",
              "      --hover-fill-color: #174EA6;\n",
              "      --disabled-fill-color: #AAA;\n",
              "      --disabled-bg-color: #DDD;\n",
              "  }\n",
              "\n",
              "  [theme=dark] .colab-df-quickchart {\n",
              "      --bg-color: #3B4455;\n",
              "      --fill-color: #D2E3FC;\n",
              "      --hover-bg-color: #434B5C;\n",
              "      --hover-fill-color: #FFFFFF;\n",
              "      --disabled-bg-color: #3B4455;\n",
              "      --disabled-fill-color: #666;\n",
              "  }\n",
              "\n",
              "  .colab-df-quickchart {\n",
              "    background-color: var(--bg-color);\n",
              "    border: none;\n",
              "    border-radius: 50%;\n",
              "    cursor: pointer;\n",
              "    display: none;\n",
              "    fill: var(--fill-color);\n",
              "    height: 32px;\n",
              "    padding: 0;\n",
              "    width: 32px;\n",
              "  }\n",
              "\n",
              "  .colab-df-quickchart:hover {\n",
              "    background-color: var(--hover-bg-color);\n",
              "    box-shadow: 0 1px 2px rgba(60, 64, 67, 0.3), 0 1px 3px 1px rgba(60, 64, 67, 0.15);\n",
              "    fill: var(--button-hover-fill-color);\n",
              "  }\n",
              "\n",
              "  .colab-df-quickchart-complete:disabled,\n",
              "  .colab-df-quickchart-complete:disabled:hover {\n",
              "    background-color: var(--disabled-bg-color);\n",
              "    fill: var(--disabled-fill-color);\n",
              "    box-shadow: none;\n",
              "  }\n",
              "\n",
              "  .colab-df-spinner {\n",
              "    border: 2px solid var(--fill-color);\n",
              "    border-color: transparent;\n",
              "    border-bottom-color: var(--fill-color);\n",
              "    animation:\n",
              "      spin 1s steps(1) infinite;\n",
              "  }\n",
              "\n",
              "  @keyframes spin {\n",
              "    0% {\n",
              "      border-color: transparent;\n",
              "      border-bottom-color: var(--fill-color);\n",
              "      border-left-color: var(--fill-color);\n",
              "    }\n",
              "    20% {\n",
              "      border-color: transparent;\n",
              "      border-left-color: var(--fill-color);\n",
              "      border-top-color: var(--fill-color);\n",
              "    }\n",
              "    30% {\n",
              "      border-color: transparent;\n",
              "      border-left-color: var(--fill-color);\n",
              "      border-top-color: var(--fill-color);\n",
              "      border-right-color: var(--fill-color);\n",
              "    }\n",
              "    40% {\n",
              "      border-color: transparent;\n",
              "      border-right-color: var(--fill-color);\n",
              "      border-top-color: var(--fill-color);\n",
              "    }\n",
              "    60% {\n",
              "      border-color: transparent;\n",
              "      border-right-color: var(--fill-color);\n",
              "    }\n",
              "    80% {\n",
              "      border-color: transparent;\n",
              "      border-right-color: var(--fill-color);\n",
              "      border-bottom-color: var(--fill-color);\n",
              "    }\n",
              "    90% {\n",
              "      border-color: transparent;\n",
              "      border-bottom-color: var(--fill-color);\n",
              "    }\n",
              "  }\n",
              "</style>\n",
              "\n",
              "  <script>\n",
              "    async function quickchart(key) {\n",
              "      const quickchartButtonEl =\n",
              "        document.querySelector('#' + key + ' button');\n",
              "      quickchartButtonEl.disabled = true;  // To prevent multiple clicks.\n",
              "      quickchartButtonEl.classList.add('colab-df-spinner');\n",
              "      try {\n",
              "        const charts = await google.colab.kernel.invokeFunction(\n",
              "            'suggestCharts', [key], {});\n",
              "      } catch (error) {\n",
              "        console.error('Error during call to suggestCharts:', error);\n",
              "      }\n",
              "      quickchartButtonEl.classList.remove('colab-df-spinner');\n",
              "      quickchartButtonEl.classList.add('colab-df-quickchart-complete');\n",
              "    }\n",
              "    (() => {\n",
              "      let quickchartButtonEl =\n",
              "        document.querySelector('#df-6024fd18-9b92-4a04-9633-1206c952a2d9 button');\n",
              "      quickchartButtonEl.style.display =\n",
              "        google.colab.kernel.accessAllowed ? 'block' : 'none';\n",
              "    })();\n",
              "  </script>\n",
              "</div>\n",
              "\n",
              "    </div>\n",
              "  </div>\n"
            ],
            "application/vnd.google.colaboratory.intrinsic+json": {
              "type": "dataframe",
              "variable_name": "data",
              "summary": "{\n  \"name\": \"data\",\n  \"rows\": 198,\n  \"fields\": [\n    {\n      \"column\": \"TV\",\n      \"properties\": {\n        \"dtype\": \"number\",\n        \"std\": 85.44322077294936,\n        \"min\": 0.7,\n        \"max\": 293.6,\n        \"num_unique_values\": 188,\n        \"samples\": [\n          149.7,\n          164.5,\n          147.3\n        ],\n        \"semantic_type\": \"\",\n        \"description\": \"\"\n      }\n    },\n    {\n      \"column\": \"Radio\",\n      \"properties\": {\n        \"dtype\": \"number\",\n        \"std\": 14.86211107267686,\n        \"min\": 0.0,\n        \"max\": 49.6,\n        \"num_unique_values\": 165,\n        \"samples\": [\n          21.1,\n          49.0,\n          25.8\n        ],\n        \"semantic_type\": \"\",\n        \"description\": \"\"\n      }\n    },\n    {\n      \"column\": \"Newspaper\",\n      \"properties\": {\n        \"dtype\": \"number\",\n        \"std\": 20.44630304627875,\n        \"min\": 0.3,\n        \"max\": 89.4,\n        \"num_unique_values\": 170,\n        \"samples\": [\n          45.2,\n          7.4,\n          2.1\n        ],\n        \"semantic_type\": \"\",\n        \"description\": \"\"\n      }\n    },\n    {\n      \"column\": \"Sales\",\n      \"properties\": {\n        \"dtype\": \"number\",\n        \"std\": 5.271183995143775,\n        \"min\": 1.6,\n        \"max\": 27.0,\n        \"num_unique_values\": 120,\n        \"samples\": [\n          16.4,\n          21.2,\n          17.9\n        ],\n        \"semantic_type\": \"\",\n        \"description\": \"\"\n      }\n    }\n  ]\n}"
            }
          },
          "metadata": {},
          "execution_count": 15
        }
      ]
    },
    {
      "cell_type": "code",
      "source": [
        "data.info()"
      ],
      "metadata": {
        "colab": {
          "base_uri": "https://localhost:8080/"
        },
        "id": "FRmJrjDCVgsM",
        "outputId": "a4d2bbec-8fb5-44cf-8664-ab694ddee404"
      },
      "execution_count": null,
      "outputs": [
        {
          "output_type": "stream",
          "name": "stdout",
          "text": [
            "<class 'pandas.core.frame.DataFrame'>\n",
            "Index: 198 entries, 0 to 199\n",
            "Data columns (total 4 columns):\n",
            " #   Column     Non-Null Count  Dtype  \n",
            "---  ------     --------------  -----  \n",
            " 0   TV         198 non-null    float64\n",
            " 1   Radio      198 non-null    float64\n",
            " 2   Newspaper  198 non-null    float64\n",
            " 3   Sales      198 non-null    float64\n",
            "dtypes: float64(4)\n",
            "memory usage: 7.7 KB\n"
          ]
        }
      ]
    },
    {
      "cell_type": "markdown",
      "source": [
        "## **DATA VISUALIZATION**"
      ],
      "metadata": {
        "id": "RcTwWn87N2It"
      }
    },
    {
      "cell_type": "markdown",
      "source": [
        "**Sales Vs  TV**\n"
      ],
      "metadata": {
        "id": "JvHHy5VvN2Gz"
      }
    },
    {
      "cell_type": "code",
      "source": [
        "# Plot TV vs Sales\n",
        "plt.figure(figsize=(14, 10))\n",
        "\n",
        "plt.subplot(3, 1, 1)\n",
        "sns.scatterplot(data=data, x='TV', y='Sales')\n",
        "plt.title('TV Advertising vs Sales')\n",
        "plt.xlabel('TV Advertising Spend')\n",
        "plt.ylabel('Sales')"
      ],
      "metadata": {
        "colab": {
          "base_uri": "https://localhost:8080/",
          "height": 236
        },
        "id": "D_WSM57OqMee",
        "outputId": "20536101-a782-4bf0-9104-f3fd55a8117a"
      },
      "execution_count": null,
      "outputs": [
        {
          "output_type": "execute_result",
          "data": {
            "text/plain": [
              "Text(0, 0.5, 'Sales')"
            ]
          },
          "metadata": {},
          "execution_count": 19
        },
        {
          "output_type": "display_data",
          "data": {
            "text/plain": [
              "<Figure size 1400x1000 with 1 Axes>"
            ],
            "image/png": "[encoded data removed]"
          },
          "metadata": {}
        }
      ]
    },
    {
      "cell_type": "markdown",
      "source": [
        "**Radio vs Sales**\n"
      ],
      "metadata": {
        "id": "3qVm_lgIOG_e"
      }
    },
    {
      "cell_type": "code",
      "source": [
        "# Plot Radio vs Sales\n",
        "plt.subplot(3, 1, 2)\n",
        "sns.lineplot(data=data, x='Radio', y='Sales')\n",
        "plt.title('Radio Advertising vs Sales')\n",
        "plt.xlabel('Radio Advertising Spend')\n",
        "plt.ylabel('Sales')"
      ],
      "metadata": {
        "colab": {
          "base_uri": "https://localhost:8080/",
          "height": 229
        },
        "id": "gxngGtXGqj-A",
        "outputId": "9b75ceda-4504-4c99-9f64-3265731309dd"
      },
      "execution_count": null,
      "outputs": [
        {
          "output_type": "execute_result",
          "data": {
            "text/plain": [
              "Text(0, 0.5, 'Sales')"
            ]
          },
          "metadata": {},
          "execution_count": 21
        },
        {
          "output_type": "display_data",
          "data": {
            "text/plain": [
              "<Figure size 640x480 with 1 Axes>"
            ],
            "image/png": "[encoded data removed]"
          },
          "metadata": {}
        }
      ]
    },
    {
      "cell_type": "markdown",
      "source": [
        "**Newspaper vs Sales**"
      ],
      "metadata": {
        "id": "E02VFAr6OJfa"
      }
    },
    {
      "cell_type": "code",
      "source": [
        "# Plot Newspaper vs Sales\n",
        "plt.subplot(3, 1, 3)\n",
        "sns.scatterplot(data=data, x='Newspaper', y='Sales')\n",
        "plt.title('Newspaper Advertising vs Sales')\n",
        "plt.xlabel('Newspaper Advertising Spend')\n",
        "plt.ylabel('Sales')"
      ],
      "metadata": {
        "colab": {
          "base_uri": "https://localhost:8080/",
          "height": 229
        },
        "id": "ExKwtMNbqw5o",
        "outputId": "676fea1f-d000-4b9e-cc37-d08ae22a1021"
      },
      "execution_count": 24,
      "outputs": [
        {
          "output_type": "execute_result",
          "data": {
            "text/plain": [
              "Text(0, 0.5, 'Sales')"
            ]
          },
          "metadata": {},
          "execution_count": 24
        },
        {
          "output_type": "display_data",
          "data": {
            "text/plain": [
              "<Figure size 640x480 with 1 Axes>"
            ],
            "image/png": "[encoded data removed]"
          },
          "metadata": {}
        }
      ]
    },
    {
      "cell_type": "markdown",
      "source": [
        "**Correlation Matrix**"
      ],
      "metadata": {
        "id": "4tU604rBOPFC"
      }
    },
    {
      "cell_type": "code",
      "source": [
        "# Select only numeric columns for correlation matrix\n",
        "numeric_data = data.select_dtypes(include=[np.number])\n",
        "\n",
        "# Calculate the correlation matrix\n",
        "corr_matrix = numeric_data.corr()\n",
        "\n",
        "# Plot the correlation matrix\n",
        "plt.figure(figsize=(12, 8))\n",
        "sns.heatmap(corr_matrix, annot=True, cmap='coolwarm', fmt='.2f')\n",
        "plt.title('Correlation Matrix')\n",
        "plt.show()"
      ],
      "metadata": {
        "colab": {
          "base_uri": "https://localhost:8080/",
          "height": 699
        },
        "id": "zBFtIkX5pKKH",
        "outputId": "5dc0bc34-1bbe-4320-cae3-41a19579c7cb"
      },
      "execution_count": 25,
      "outputs": [
        {
          "output_type": "display_data",
          "data": {
            "text/plain": [
              "<Figure size 1200x800 with 2 Axes>"
            ],
            "image/png": "[encoded data removed]"
          },
          "metadata": {}
        }
      ]
    },
    {
      "cell_type": "markdown",
      "source": [
        "## **FEATURE ENGINEERING**"
      ],
      "metadata": {
        "id": "x-RBWzw1Ozcf"
      }
    },
    {
      "cell_type": "code",
      "source": [
        "from sklearn.preprocessing import StandardScaler"
      ],
      "metadata": {
        "id": "UznMnGfbhSCn"
      },
      "execution_count": 27,
      "outputs": []
    },
    {
      "cell_type": "code",
      "source": [
        "scalerx = StandardScaler()\n",
        "scalery = StandardScaler()"
      ],
      "metadata": {
        "id": "BZ4M2RXuhXtP"
      },
      "execution_count": 28,
      "outputs": []
    },
    {
      "cell_type": "markdown",
      "source": [
        "### **MODEL SELECTION**"
      ],
      "metadata": {
        "id": "kxfMzCdBPK0S"
      }
    },
    {
      "cell_type": "code",
      "source": [
        "from sklearn.model_selection import train_test_split\n",
        "from sklearn.linear_model import LinearRegression\n",
        "from sklearn.tree import DecisionTreeRegressor\n",
        "from sklearn.svm import SVR\n",
        "from sklearn.ensemble import RandomForestRegressor\n",
        "from sklearn.metrics import mean_squared_error, r2_score,precision_recall_curve, roc_curve, roc_auc_score,auc\n",
        "from tensorflow.keras.models import Sequential\n",
        "from tensorflow.keras.layers import LSTM, Dense, Dropout"
      ],
      "metadata": {
        "id": "XeEbu8euj9tg"
      },
      "execution_count": 31,
      "outputs": []
    },
    {
      "cell_type": "code",
      "source": [
        "# Prepare the data for modeling\n",
        "X = data.drop(['Sales'], axis=1)\n",
        "y = data['Sales']"
      ],
      "metadata": {
        "id": "HjkPWy2ikOvo"
      },
      "execution_count": 38,
      "outputs": []
    },
    {
      "cell_type": "markdown",
      "source": [
        "**Standard Scaler**"
      ],
      "metadata": {
        "id": "jFzH43iPPOwj"
      }
    },
    {
      "cell_type": "code",
      "source": [
        "X = scalerx.fit_transform(X)"
      ],
      "metadata": {
        "id": "7q-LM9ZLr6Xs"
      },
      "execution_count": 39,
      "outputs": []
    },
    {
      "cell_type": "code",
      "source": [
        "\n",
        "# Convert the y to a NumPy array\n",
        "y_array = y.values\n",
        "\n",
        "# Reshape the NumPy array to a 2D array with one column\n",
        "y_reshaped = y_array.reshape(-1, 1)\n",
        "\n",
        "# Use the reshaped array for fitting and transforming\n",
        "y = scalery.fit_transform(y_reshaped)\n"
      ],
      "metadata": {
        "id": "AP5_Idx_7SZA"
      },
      "execution_count": 40,
      "outputs": []
    },
    {
      "cell_type": "code",
      "source": [
        "data"
      ],
      "metadata": {
        "colab": {
          "base_uri": "https://localhost:8080/",
          "height": 423
        },
        "id": "lqJFQ9nR4WSO",
        "outputId": "de7877f3-233b-499c-a6f3-6f8a0afd703a"
      },
      "execution_count": 41,
      "outputs": [
        {
          "output_type": "execute_result",
          "data": {
            "text/plain": [
              "        TV  Radio  Newspaper  Sales\n",
              "0    230.1   37.8       69.2   22.1\n",
              "1     44.5   39.3       45.1   10.4\n",
              "2     17.2   45.9       69.3   12.0\n",
              "3    151.5   41.3       58.5   16.5\n",
              "4    180.8   10.8       58.4   17.9\n",
              "..     ...    ...        ...    ...\n",
              "195   38.2    3.7       13.8    7.6\n",
              "196   94.2    4.9        8.1   14.0\n",
              "197  177.0    9.3        6.4   14.8\n",
              "198  283.6   42.0       66.2   25.5\n",
              "199  232.1    8.6        8.7   18.4\n",
              "\n",
              "[198 rows x 4 columns]"
            ],
            "text/html": [
              "\n",
              "  <div id=\"df-04ea711e-cb82-4f43-a8d8-041b05f580bd\" class=\"colab-df-container\">\n",
              "    <div>\n",
              "<style scoped>\n",
              "    .dataframe tbody tr th:only-of-type {\n",
              "        vertical-align: middle;\n",
              "    }\n",
              "\n",
              "    .dataframe tbody tr th {\n",
              "        vertical-align: top;\n",
              "    }\n",
              "\n",
              "    .dataframe thead th {\n",
              "        text-align: right;\n",
              "    }\n",
              "</style>\n",
              "<table border=\"1\" class=\"dataframe\">\n",
              "  <thead>\n",
              "    <tr style=\"text-align: right;\">\n",
              "      <th></th>\n",
              "      <th>TV</th>\n",
              "      <th>Radio</th>\n",
              "      <th>Newspaper</th>\n",
              "      <th>Sales</th>\n",
              "    </tr>\n",
              "  </thead>\n",
              "  <tbody>\n",
              "    <tr>\n",
              "      <th>0</th>\n",
              "      <td>230.1</td>\n",
              "      <td>37.8</td>\n",
              "      <td>69.2</td>\n",
              "      <td>22.1</td>\n",
              "    </tr>\n",
              "    <tr>\n",
              "      <th>1</th>\n",
              "      <td>44.5</td>\n",
              "      <td>39.3</td>\n",
              "      <td>45.1</td>\n",
              "      <td>10.4</td>\n",
              "    </tr>\n",
              "    <tr>\n",
              "      <th>2</th>\n",
              "      <td>17.2</td>\n",
              "      <td>45.9</td>\n",
              "      <td>69.3</td>\n",
              "      <td>12.0</td>\n",
              "    </tr>\n",
              "    <tr>\n",
              "      <th>3</th>\n",
              "      <td>151.5</td>\n",
              "      <td>41.3</td>\n",
              "      <td>58.5</td>\n",
              "      <td>16.5</td>\n",
              "    </tr>\n",
              "    <tr>\n",
              "      <th>4</th>\n",
              "      <td>180.8</td>\n",
              "      <td>10.8</td>\n",
              "      <td>58.4</td>\n",
              "      <td>17.9</td>\n",
              "    </tr>\n",
              "    <tr>\n",
              "      <th>...</th>\n",
              "      <td>...</td>\n",
              "      <td>...</td>\n",
              "      <td>...</td>\n",
              "      <td>...</td>\n",
              "    </tr>\n",
              "    <tr>\n",
              "      <th>195</th>\n",
              "      <td>38.2</td>\n",
              "      <td>3.7</td>\n",
              "      <td>13.8</td>\n",
              "      <td>7.6</td>\n",
              "    </tr>\n",
              "    <tr>\n",
              "      <th>196</th>\n",
              "      <td>94.2</td>\n",
              "      <td>4.9</td>\n",
              "      <td>8.1</td>\n",
              "      <td>14.0</td>\n",
              "    </tr>\n",
              "    <tr>\n",
              "      <th>197</th>\n",
              "      <td>177.0</td>\n",
              "      <td>9.3</td>\n",
              "      <td>6.4</td>\n",
              "      <td>14.8</td>\n",
              "    </tr>\n",
              "    <tr>\n",
              "      <th>198</th>\n",
              "      <td>283.6</td>\n",
              "      <td>42.0</td>\n",
              "      <td>66.2</td>\n",
              "      <td>25.5</td>\n",
              "    </tr>\n",
              "    <tr>\n",
              "      <th>199</th>\n",
              "      <td>232.1</td>\n",
              "      <td>8.6</td>\n",
              "      <td>8.7</td>\n",
              "      <td>18.4</td>\n",
              "    </tr>\n",
              "  </tbody>\n",
              "</table>\n",
              "<p>198 rows × 4 columns</p>\n",
              "</div>\n",
              "    <div class=\"colab-df-buttons\">\n",
              "\n",
              "  <div class=\"colab-df-container\">\n",
              "    <button class=\"colab-df-convert\" onclick=\"convertToInteractive('df-04ea711e-cb82-4f43-a8d8-041b05f580bd')\"\n",
              "            title=\"Convert this dataframe to an interactive table.\"\n",
              "            style=\"display:none;\">\n",
              "\n",
              "  <svg xmlns=\"http://www.w3.org/2000/svg\" height=\"24px\" viewBox=\"0 -960 960 960\">\n",
              "    <path d=\"M120-120v-720h720v720H120Zm60-500h600v-160H180v160Zm220 220h160v-160H400v160Zm0 220h160v-160H400v160ZM180-400h160v-160H180v160Zm440 0h160v-160H620v160ZM180-180h160v-160H180v160Zm440 0h160v-160H620v160Z\"/>\n",
              "  </svg>\n",
              "    </button>\n",
              "\n",
              "  <style>\n",
              "    .colab-df-container {\n",
              "      display:flex;\n",
              "      gap: 12px;\n",
              "    }\n",
              "\n",
              "    .colab-df-convert {\n",
              "      background-color: #E8F0FE;\n",
              "      border: none;\n",
              "      border-radius: 50%;\n",
              "      cursor: pointer;\n",
              "      display: none;\n",
              "      fill: #1967D2;\n",
              "      height: 32px;\n",
              "      padding: 0 0 0 0;\n",
              "      width: 32px;\n",
              "    }\n",
              "\n",
              "    .colab-df-convert:hover {\n",
              "      background-color: #E2EBFA;\n",
              "      box-shadow: 0px 1px 2px rgba(60, 64, 67, 0.3), 0px 1px 3px 1px rgba(60, 64, 67, 0.15);\n",
              "      fill: #174EA6;\n",
              "    }\n",
              "\n",
              "    .colab-df-buttons div {\n",
              "      margin-bottom: 4px;\n",
              "    }\n",
              "\n",
              "    [theme=dark] .colab-df-convert {\n",
              "      background-color: #3B4455;\n",
              "      fill: #D2E3FC;\n",
              "    }\n",
              "\n",
              "    [theme=dark] .colab-df-convert:hover {\n",
              "      background-color: #434B5C;\n",
              "      box-shadow: 0px 1px 3px 1px rgba(0, 0, 0, 0.15);\n",
              "      filter: drop-shadow(0px 1px 2px rgba(0, 0, 0, 0.3));\n",
              "      fill: #FFFFFF;\n",
              "    }\n",
              "  </style>\n",
              "\n",
              "    <script>\n",
              "      const buttonEl =\n",
              "        document.querySelector('#df-04ea711e-cb82-4f43-a8d8-041b05f580bd button.colab-df-convert');\n",
              "      buttonEl.style.display =\n",
              "        google.colab.kernel.accessAllowed ? 'block' : 'none';\n",
              "\n",
              "      async function convertToInteractive(key) {\n",
              "        const element = document.querySelector('#df-04ea711e-cb82-4f43-a8d8-041b05f580bd');\n",
              "        const dataTable =\n",
              "          await google.colab.kernel.invokeFunction('convertToInteractive',\n",
              "                                                    [key], {});\n",
              "        if (!dataTable) return;\n",
              "\n",
              "        const docLinkHtml = 'Like what you see? Visit the ' +\n",
              "          '<a target=\"_blank\" href=https://colab.research.google.com/notebooks/data_table.ipynb>data table notebook</a>'\n",
              "          + ' to learn more about interactive tables.';\n",
              "        element.innerHTML = '';\n",
              "        dataTable['output_type'] = 'display_data';\n",
              "        await google.colab.output.renderOutput(dataTable, element);\n",
              "        const docLink = document.createElement('div');\n",
              "        docLink.innerHTML = docLinkHtml;\n",
              "        element.appendChild(docLink);\n",
              "      }\n",
              "    </script>\n",
              "  </div>\n",
              "\n",
              "\n",
              "<div id=\"df-b96cc246-7c1f-4f02-9e90-440d714d58b5\">\n",
              "  <button class=\"colab-df-quickchart\" onclick=\"quickchart('df-b96cc246-7c1f-4f02-9e90-440d714d58b5')\"\n",
              "            title=\"Suggest charts\"\n",
              "            style=\"display:none;\">\n",
              "\n",
              "<svg xmlns=\"http://www.w3.org/2000/svg\" height=\"24px\"viewBox=\"0 0 24 24\"\n",
              "     width=\"24px\">\n",
              "    <g>\n",
              "        <path d=\"M19 3H5c-1.1 0-2 .9-2 2v14c0 1.1.9 2 2 2h14c1.1 0 2-.9 2-2V5c0-1.1-.9-2-2-2zM9 17H7v-7h2v7zm4 0h-2V7h2v10zm4 0h-2v-4h2v4z\"/>\n",
              "    </g>\n",
              "</svg>\n",
              "  </button>\n",
              "\n",
              "<style>\n",
              "  .colab-df-quickchart {\n",
              "      --bg-color: #E8F0FE;\n",
              "      --fill-color: #1967D2;\n",
              "      --hover-bg-color: #E2EBFA;\n",
              "      --hover-fill-color: #174EA6;\n",
              "      --disabled-fill-color: #AAA;\n",
              "      --disabled-bg-color: #DDD;\n",
              "  }\n",
              "\n",
              "  [theme=dark] .colab-df-quickchart {\n",
              "      --bg-color: #3B4455;\n",
              "      --fill-color: #D2E3FC;\n",
              "      --hover-bg-color: #434B5C;\n",
              "      --hover-fill-color: #FFFFFF;\n",
              "      --disabled-bg-color: #3B4455;\n",
              "      --disabled-fill-color: #666;\n",
              "  }\n",
              "\n",
              "  .colab-df-quickchart {\n",
              "    background-color: var(--bg-color);\n",
              "    border: none;\n",
              "    border-radius: 50%;\n",
              "    cursor: pointer;\n",
              "    display: none;\n",
              "    fill: var(--fill-color);\n",
              "    height: 32px;\n",
              "    padding: 0;\n",
              "    width: 32px;\n",
              "  }\n",
              "\n",
              "  .colab-df-quickchart:hover {\n",
              "    background-color: var(--hover-bg-color);\n",
              "    box-shadow: 0 1px 2px rgba(60, 64, 67, 0.3), 0 1px 3px 1px rgba(60, 64, 67, 0.15);\n",
              "    fill: var(--button-hover-fill-color);\n",
              "  }\n",
              "\n",
              "  .colab-df-quickchart-complete:disabled,\n",
              "  .colab-df-quickchart-complete:disabled:hover {\n",
              "    background-color: var(--disabled-bg-color);\n",
              "    fill: var(--disabled-fill-color);\n",
              "    box-shadow: none;\n",
              "  }\n",
              "\n",
              "  .colab-df-spinner {\n",
              "    border: 2px solid var(--fill-color);\n",
              "    border-color: transparent;\n",
              "    border-bottom-color: var(--fill-color);\n",
              "    animation:\n",
              "      spin 1s steps(1) infinite;\n",
              "  }\n",
              "\n",
              "  @keyframes spin {\n",
              "    0% {\n",
              "      border-color: transparent;\n",
              "      border-bottom-color: var(--fill-color);\n",
              "      border-left-color: var(--fill-color);\n",
              "    }\n",
              "    20% {\n",
              "      border-color: transparent;\n",
              "      border-left-color: var(--fill-color);\n",
              "      border-top-color: var(--fill-color);\n",
              "    }\n",
              "    30% {\n",
              "      border-color: transparent;\n",
              "      border-left-color: var(--fill-color);\n",
              "      border-top-color: var(--fill-color);\n",
              "      border-right-color: var(--fill-color);\n",
              "    }\n",
              "    40% {\n",
              "      border-color: transparent;\n",
              "      border-right-color: var(--fill-color);\n",
              "      border-top-color: var(--fill-color);\n",
              "    }\n",
              "    60% {\n",
              "      border-color: transparent;\n",
              "      border-right-color: var(--fill-color);\n",
              "    }\n",
              "    80% {\n",
              "      border-color: transparent;\n",
              "      border-right-color: var(--fill-color);\n",
              "      border-bottom-color: var(--fill-color);\n",
              "    }\n",
              "    90% {\n",
              "      border-color: transparent;\n",
              "      border-bottom-color: var(--fill-color);\n",
              "    }\n",
              "  }\n",
              "</style>\n",
              "\n",
              "  <script>\n",
              "    async function quickchart(key) {\n",
              "      const quickchartButtonEl =\n",
              "        document.querySelector('#' + key + ' button');\n",
              "      quickchartButtonEl.disabled = true;  // To prevent multiple clicks.\n",
              "      quickchartButtonEl.classList.add('colab-df-spinner');\n",
              "      try {\n",
              "        const charts = await google.colab.kernel.invokeFunction(\n",
              "            'suggestCharts', [key], {});\n",
              "      } catch (error) {\n",
              "        console.error('Error during call to suggestCharts:', error);\n",
              "      }\n",
              "      quickchartButtonEl.classList.remove('colab-df-spinner');\n",
              "      quickchartButtonEl.classList.add('colab-df-quickchart-complete');\n",
              "    }\n",
              "    (() => {\n",
              "      let quickchartButtonEl =\n",
              "        document.querySelector('#df-b96cc246-7c1f-4f02-9e90-440d714d58b5 button');\n",
              "      quickchartButtonEl.style.display =\n",
              "        google.colab.kernel.accessAllowed ? 'block' : 'none';\n",
              "    })();\n",
              "  </script>\n",
              "</div>\n",
              "\n",
              "  <div id=\"id_7ce2f536-cc63-4b28-9adc-b82b56c2989b\">\n",
              "    <style>\n",
              "      .colab-df-generate {\n",
              "        background-color: #E8F0FE;\n",
              "        border: none;\n",
              "        border-radius: 50%;\n",
              "        cursor: pointer;\n",
              "        display: none;\n",
              "        fill: #1967D2;\n",
              "        height: 32px;\n",
              "        padding: 0 0 0 0;\n",
              "        width: 32px;\n",
              "      }\n",
              "\n",
              "      .colab-df-generate:hover {\n",
              "        background-color: #E2EBFA;\n",
              "        box-shadow: 0px 1px 2px rgba(60, 64, 67, 0.3), 0px 1px 3px 1px rgba(60, 64, 67, 0.15);\n",
              "        fill: #174EA6;\n",
              "      }\n",
              "\n",
              "      [theme=dark] .colab-df-generate {\n",
              "        background-color: #3B4455;\n",
              "        fill: #D2E3FC;\n",
              "      }\n",
              "\n",
              "      [theme=dark] .colab-df-generate:hover {\n",
              "        background-color: #434B5C;\n",
              "        box-shadow: 0px 1px 3px 1px rgba(0, 0, 0, 0.15);\n",
              "        filter: drop-shadow(0px 1px 2px rgba(0, 0, 0, 0.3));\n",
              "        fill: #FFFFFF;\n",
              "      }\n",
              "    </style>\n",
              "    <button class=\"colab-df-generate\" onclick=\"generateWithVariable('data')\"\n",
              "            title=\"Generate code using this dataframe.\"\n",
              "            style=\"display:none;\">\n",
              "\n",
              "  <svg xmlns=\"http://www.w3.org/2000/svg\" height=\"24px\"viewBox=\"0 0 24 24\"\n",
              "       width=\"24px\">\n",
              "    <path d=\"M7,19H8.4L18.45,9,17,7.55,7,17.6ZM5,21V16.75L18.45,3.32a2,2,0,0,1,2.83,0l1.4,1.43a1.91,1.91,0,0,1,.58,1.4,1.91,1.91,0,0,1-.58,1.4L9.25,21ZM18.45,9,17,7.55Zm-12,3A5.31,5.31,0,0,0,4.9,8.1,5.31,5.31,0,0,0,1,6.5,5.31,5.31,0,0,0,4.9,4.9,5.31,5.31,0,0,0,6.5,1,5.31,5.31,0,0,0,8.1,4.9,5.31,5.31,0,0,0,12,6.5,5.46,5.46,0,0,0,6.5,12Z\"/>\n",
              "  </svg>\n",
              "    </button>\n",
              "    <script>\n",
              "      (() => {\n",
              "      const buttonEl =\n",
              "        document.querySelector('#id_7ce2f536-cc63-4b28-9adc-b82b56c2989b button.colab-df-generate');\n",
              "      buttonEl.style.display =\n",
              "        google.colab.kernel.accessAllowed ? 'block' : 'none';\n",
              "\n",
              "      buttonEl.onclick = () => {\n",
              "        google.colab.notebook.generateWithVariable('data');\n",
              "      }\n",
              "      })();\n",
              "    </script>\n",
              "  </div>\n",
              "\n",
              "    </div>\n",
              "  </div>\n"
            ],
            "application/vnd.google.colaboratory.intrinsic+json": {
              "type": "dataframe",
              "variable_name": "data",
              "summary": "{\n  \"name\": \"data\",\n  \"rows\": 198,\n  \"fields\": [\n    {\n      \"column\": \"TV\",\n      \"properties\": {\n        \"dtype\": \"number\",\n        \"std\": 85.44322077294936,\n        \"min\": 0.7,\n        \"max\": 293.6,\n        \"num_unique_values\": 188,\n        \"samples\": [\n          149.7,\n          164.5,\n          147.3\n        ],\n        \"semantic_type\": \"\",\n        \"description\": \"\"\n      }\n    },\n    {\n      \"column\": \"Radio\",\n      \"properties\": {\n        \"dtype\": \"number\",\n        \"std\": 14.86211107267686,\n        \"min\": 0.0,\n        \"max\": 49.6,\n        \"num_unique_values\": 165,\n        \"samples\": [\n          21.1,\n          49.0,\n          25.8\n        ],\n        \"semantic_type\": \"\",\n        \"description\": \"\"\n      }\n    },\n    {\n      \"column\": \"Newspaper\",\n      \"properties\": {\n        \"dtype\": \"number\",\n        \"std\": 20.44630304627875,\n        \"min\": 0.3,\n        \"max\": 89.4,\n        \"num_unique_values\": 170,\n        \"samples\": [\n          45.2,\n          7.4,\n          2.1\n        ],\n        \"semantic_type\": \"\",\n        \"description\": \"\"\n      }\n    },\n    {\n      \"column\": \"Sales\",\n      \"properties\": {\n        \"dtype\": \"number\",\n        \"std\": 5.271183995143775,\n        \"min\": 1.6,\n        \"max\": 27.0,\n        \"num_unique_values\": 120,\n        \"samples\": [\n          16.4,\n          21.2,\n          17.9\n        ],\n        \"semantic_type\": \"\",\n        \"description\": \"\"\n      }\n    }\n  ]\n}"
            }
          },
          "metadata": {},
          "execution_count": 41
        }
      ]
    },
    {
      "cell_type": "code",
      "source": [
        "X"
      ],
      "metadata": {
        "colab": {
          "base_uri": "https://localhost:8080/"
        },
        "id": "k8cLqJHk0I8P",
        "outputId": "8fc75c46-e50f-4594-d2fe-9ca80bd2103c"
      },
      "execution_count": 42,
      "outputs": [
        {
          "output_type": "execute_result",
          "data": {
            "text/plain": [
              "array([[ 0.97869734,  0.98952135,  1.93299778],\n",
              "       [-1.19901165,  1.09070498,  0.75131275],\n",
              "       [-1.51933199,  1.53591293,  1.93790103],\n",
              "       [ 0.05645636,  1.22561648,  1.40834924],\n",
              "       [ 0.40024339, -0.83178391,  1.40344598],\n",
              "       [-1.61906543,  1.73828018,  2.2173867 ],\n",
              "       [-1.04647815,  0.6522426 , -0.30779084],\n",
              "       [-0.31079737, -0.23817331, -0.89127846],\n",
              "       [-1.62023876, -1.41864895, -1.41102374],\n",
              "       [ 0.62317696, -1.38492107, -0.42056576],\n",
              "       [-0.94557138, -1.16906267, -0.27346804],\n",
              "       [ 0.79800381,  0.05863199, -1.26392602],\n",
              "       [-1.44189191,  0.80739083,  1.77119028],\n",
              "       [-0.57714432, -1.04764232, -1.10702179],\n",
              "       [ 0.67363035,  0.65898817,  0.79544207],\n",
              "       [ 0.57155024,  1.65733328,  1.13376683],\n",
              "       [ 1.58061798,  1.1109417 ,  1.27596129],\n",
              "       [-0.90919801, -0.17746313, -0.56276022],\n",
              "       [ 0.0071763 ,  0.05188642, -0.52353416],\n",
              "       [ 0.84141719,  0.30821827,  1.15828311],\n",
              "       [ 1.06435076, -1.21628169, -0.30779084],\n",
              "       [-1.56626537, -0.48775959,  0.97195933],\n",
              "       [ 0.95757732, -0.42030384, -0.17540289],\n",
              "       [-0.99015809, -0.71036356, -0.56276022],\n",
              "       [ 1.36355108, -1.32421089, -0.50392113],\n",
              "       [-0.04445042,  0.41614747, -0.84224589],\n",
              "       [ 1.0960308 , -0.43379499, -0.33721038],\n",
              "       [ 1.19811091,  0.26774482, -0.33721038],\n",
              "       [-0.89277132, -0.48101401,  0.54047269],\n",
              "       [ 1.71555146,  0.34869172,  0.65815086],\n",
              "       [-0.39645079, -0.38657596,  0.43260102],\n",
              "       [-0.58066432, -1.4591224 ,  0.01092089],\n",
              "       [ 1.39523112, -0.21119101, -1.44534654],\n",
              "       [-0.59826434, -1.46586797, -1.09721527],\n",
              "       [ 1.6897381 , -1.28373744, -1.04327944],\n",
              "       [ 1.41048447,  1.39425586, -1.21489345],\n",
              "       [-0.8446646 ,  1.77200806,  0.7807323 ],\n",
              "       [-1.21543833,  0.24076252,  0.26098702],\n",
              "       [ 0.95405731,  0.98277578,  0.10898604],\n",
              "       [ 0.65485699, -0.05604278,  0.08937301],\n",
              "       [ 0.35565668,  0.69271605,  0.43750428],\n",
              "       [ 1.7237648 ,  0.30821827, -1.37179768],\n",
              "       [ 0.70648372, -0.99367772, -0.16559637],\n",
              "       [-1.42663856,  0.17330677,  0.66305412],\n",
              "       [ 0.33336332, -0.04255163,  0.08446975],\n",
              "       [-0.66866442, -0.89249409,  0.29040656],\n",
              "       [ 1.09368413,  1.23910763, -0.5529537 ],\n",
              "       [ 0.94467064, -0.49450516,  0.98666911],\n",
              "       [-0.9361847 , -0.77107374,  0.34434239],\n",
              "       [ 0.62317696, -1.35119319,  0.23647073],\n",
              "       [-0.54311762, -0.91273082, -1.28353905],\n",
              "       [ 0.8179505 ,  1.25259878,  0.4816336 ],\n",
              "       [ 0.42136341,  1.55614966,  1.41815575],\n",
              "       [ 1.36120441,  0.3824196 , -0.6804384 ],\n",
              "       [ 0.61261695,  1.77200806,  1.4818981 ],\n",
              "       [-1.63549211,  0.33520057,  0.56989223],\n",
              "       [-0.12306383, -0.26515561, -0.64611559],\n",
              "       [ 0.75224376,  1.78549921,  0.38847171],\n",
              "       [ 0.75107043,  0.42963862, -1.00405338],\n",
              "       [-1.09341154, -1.42539452, -0.41075924],\n",
              "       [ 1.34477773,  1.32005453,  1.22202546],\n",
              "       [ 1.08664412, -0.51474189, -0.12146706],\n",
              "       [-0.51613092,  0.4363842 , -1.0481827 ],\n",
              "       [-0.1829039 ,  1.32680011, -0.04301494],\n",
              "       [-0.91154467, -0.93296754, -1.415927  ],\n",
              "       [-1.35154514,  0.09910544, -1.35218465],\n",
              "       [-0.08669046, -0.58219764, -0.95992407],\n",
              "       [ 1.06435076,  0.29472712, -0.92069801],\n",
              "       [ 0.82264384,  1.40100143, -0.12637031],\n",
              "       [ 0.61496362,  0.50383995,  0.43750428],\n",
              "       [-0.43282416, -0.59568879,  0.09427627],\n",
              "       [-1.40669187,  0.66573375, -0.51372765],\n",
              "       [-0.20285059, -1.17580824,  0.07466324],\n",
              "       [ 0.78275046,  0.09910544, -0.8177296 ],\n",
              "       [-1.52285199,  1.38751028,  2.92345576],\n",
              "       [-1.39847853, -1.45237682, -0.44508204],\n",
              "       [-0.30727736,  0.36218287, -0.76379377],\n",
              "       [-1.65778547,  0.45662092, -0.99915012],\n",
              "       [-0.36007742, -1.04089674, -0.32740387],\n",
              "       [-0.82471792,  0.24076252, -0.36662993],\n",
              "       [ 1.09251079, -1.28373744,  0.34924565],\n",
              "       [-0.8376246 , -0.19095428,  0.13350233],\n",
              "       [-0.91858468,  1.44147488,  0.2855033 ],\n",
              "       [ 0.7839238 ,  1.34029126,  0.19724467],\n",
              "       [ 0.54573688, -0.31912021,  1.76138377],\n",
              "       [-0.82589125,  0.29472712, -0.67553514],\n",
              "       [-0.42226415,  1.17839745,  1.63880233],\n",
              "       [-0.6850911 ,  0.15981562,  2.13893458],\n",
              "       [-0.43282416,  1.66407886,  1.06021797],\n",
              "       [-0.14535719, -1.22977284, -1.00405338],\n",
              "       [-1.38557185, -1.4591224 ,  0.15801861],\n",
              "       [ 0.83320385,  0.69946162,  1.43286552],\n",
              "       [ 1.22275093,  0.90182888,  2.08499875],\n",
              "       [-0.46098419, -0.61592551, -0.92560126],\n",
              "       [ 0.19490984,  0.5712957 ,  1.13376683],\n",
              "       [ 0.5973636 , -1.32421089, -1.17076413],\n",
              "       [ 0.44835011, -0.14373526, -0.3813397 ],\n",
              "       [ 1.67800475,  1.29307223,  1.05041145],\n",
              "       [-0.13479718,  1.25259878,  0.79053881],\n",
              "       [ 0.88835058, -1.27024629,  0.98176585],\n",
              "       [ 1.56653796, -0.87900294, -0.41075924],\n",
              "       [ 0.48355014, -0.40006711, -0.58237325],\n",
              "       [ 1.07373744,  0.75342622, -1.20018368],\n",
              "       [-0.10311715,  1.56964081,  1.43286552],\n",
              "       [-1.42781189, -0.81829276, -0.00378888],\n",
              "       [-0.66045107, -1.5400693 , -0.32250061],\n",
              "       [-1.56743871, -1.53332372, -0.20482243],\n",
              "       [ 1.27555099,  0.25425367, -1.19037716],\n",
              "       [ 0.92824395, -1.00716887,  1.31028409],\n",
              "       [ 1.11480415,  1.0030125 , -0.32250061],\n",
              "       [ 0.34040333, -0.52148746, -1.34237814],\n",
              "       [ 0.73816375, -0.17071756, -0.93540778],\n",
              "       [-0.80359789,  1.59662311,  0.23156747],\n",
              "       [-0.83997127,  0.80064525,  1.12396031],\n",
              "       [-0.0878638 , -0.59568879, -0.20482243],\n",
              "       [-0.82471792, -1.50634142, -0.73437423],\n",
              "       [-0.24626397,  0.92881118,  2.42332351],\n",
              "       [-1.49351863, -0.48101401, -0.36662993],\n",
              "       [-0.06322377,  0.2475081 ,  0.80524858],\n",
              "       [-1.50055864, -0.09651623,  1.01118539],\n",
              "       [ 0.90712393, -1.39841222, -0.69514817],\n",
              "       [-0.27677067,  0.77366295, -0.8520524 ],\n",
              "       [ 0.97165733,  0.61851472,  2.17816064],\n",
              "       [-0.69799778, -0.76432816, -0.19011266],\n",
              "       [-1.62962544,  1.06372268,  1.02099191],\n",
              "       [-0.7801312 , -1.56030602, -1.00895664],\n",
              "       [ 0.86371055,  1.74502576, -1.30315208],\n",
              "       [-1.02183813, -0.75083701,  0.65324761],\n",
              "       [-1.7129322 ,  1.1109417 , -1.03347293],\n",
              "       [ 1.39053778, -1.36468434,  0.64834435],\n",
              "       [-1.62258543,  0.2744904 , -1.35708791],\n",
              "       [ 0.85784388,  0.69946162,  0.75131275],\n",
              "       [-1.28818508,  1.04348595,  1.75648051],\n",
              "       [-1.15442493,  1.61011426, -1.04327944],\n",
              "       [-1.42077188,  1.07046825, -1.00405338],\n",
              "       [ 1.49027122,  0.38916517,  1.46718833],\n",
              "       [-1.21661167,  0.18679792, -0.45488856],\n",
              "       [ 0.44835011,  1.40100143, -1.37670094],\n",
              "       [-0.85991795, -0.41355826, -0.82753612],\n",
              "       [ 0.55160355,  0.82762755,  2.24680625],\n",
              "       [ 0.86605722,  0.6792249 ,  0.39827822],\n",
              "       [-0.49383756, -1.17580824,  0.22666422],\n",
              "       [-0.59239767, -0.56196091,  0.4473108 ],\n",
              "       [-0.07495712, -1.4321401 , -1.01876315],\n",
              "       [ 1.0960308 , -1.06787904, -1.03347293],\n",
              "       [ 1.13240417,  1.74502576,  0.71208669],\n",
              "       [-1.2752784 ,  1.15816073, -0.87656869],\n",
              "       [-1.19666498,  0.18005234, -0.4499853 ],\n",
              "       [ 1.57240464, -0.62267109,  0.35414891],\n",
              "       [-0.30141069, -0.99367772,  0.92783002],\n",
              "       [ 0.5973636 ,  0.01141297, -0.76379377],\n",
              "       [ 0.2887766 ,  1.11768728,  0.38847171],\n",
              "       [ 0.48237681, -0.13698968, -0.99424687],\n",
              "       [-1.67303882, -0.77781931, -1.18057065],\n",
              "       [-0.61938436,  1.37401913,  1.01608865],\n",
              "       [ 0.03650967, -1.47261355, -0.26856478],\n",
              "       [-1.58386539,  0.92881118,  0.75621601],\n",
              "       [-0.17586389, -0.31912021,  0.23647073],\n",
              "       [ 0.30285662, -0.33935694,  0.04524369],\n",
              "       [-0.7155978 ,  0.85460985,  0.95724956],\n",
              "       [ 0.48941682, -0.33935694, -0.20482243],\n",
              "       [ 0.19725651,  0.9220656 , -1.09721527],\n",
              "       [-0.34599741, -0.56870649, -1.19528042],\n",
              "       [ 1.03032406, -1.33095647,  2.69790592],\n",
              "       [-1.51111865,  0.9760302 , -0.40095273],\n",
              "       [ 0.70531038, -1.20953612, -0.50882439],\n",
              "       [ 0.80621716,  0.03164969,  1.36421992],\n",
              "       [ 1.61464468, -0.84527507, -1.14624784],\n",
              "       [-1.13447825, -0.77781931, -0.55785696],\n",
              "       [ 0.20898985, -0.15048083,  0.86408767],\n",
              "       [-1.49117196, -0.20444543, -0.62650256],\n",
              "       [ 0.2547499 , -1.08137019, -0.83243937],\n",
              "       [ 0.88835058, -1.33095647, -0.8177296 ],\n",
              "       [ 1.52781792,  1.73828018,  0.58950526],\n",
              "       [ 1.19341757,  0.47685765, -0.46469507],\n",
              "       [ 0.27586992, -1.03415117,  0.26589027],\n",
              "       [ 1.52547125, -1.4051578 , -0.29798432],\n",
              "       [ 0.22189653, -0.88574852, -0.59708302],\n",
              "       [ 0.11629642, -1.38492107, -1.05308596],\n",
              "       [ 0.84259053, -1.19604497, -0.1165638 ],\n",
              "       [-1.0617315 , -1.17580824, -0.00378888],\n",
              "       [ 1.65336472,  1.34029126,  2.06048247],\n",
              "       [ 1.25677764, -0.12349853,  0.01092089],\n",
              "       [ 0.68419036,  1.48194833, -0.49901787],\n",
              "       [-0.08434379, -1.41864895, -0.15578986],\n",
              "       [ 0.52109685,  0.37567402, -0.56766348],\n",
              "       [ 1.63459137, -0.62267109, -1.27863579],\n",
              "       [-1.50173197, -0.74409144, -0.31269409],\n",
              "       [-1.25767838,  1.21212533, -1.17566739],\n",
              "       [-0.83527793, -0.83178391, -1.16586087],\n",
              "       [-1.51933199, -1.28373744,  0.08937301],\n",
              "       [ 0.23597655,  1.2728355 , -1.28353905],\n",
              "       [ 0.03533633,  0.8411187 , -1.16586087],\n",
              "       [-1.27293173, -1.31071974, -0.7834068 ],\n",
              "       [-0.61586436, -1.22977284, -1.06289247],\n",
              "       [ 0.35565668, -0.93296754, -1.14624784],\n",
              "       [ 1.60643134,  1.2728355 ,  1.78590005],\n",
              "       [ 1.00216403, -0.98018657, -1.03347293]])"
            ]
          },
          "metadata": {},
          "execution_count": 42
        }
      ]
    },
    {
      "cell_type": "code",
      "source": [
        "\n",
        "# Split the data into training and testing sets\n",
        "X_train, X_test, y_train, y_test = train_test_split(X, y, test_size=0.2, random_state=42)"
      ],
      "metadata": {
        "id": "gb0duH2QkQwh"
      },
      "execution_count": 43,
      "outputs": []
    },
    {
      "cell_type": "markdown",
      "source": [
        "# **Linear Regression**"
      ],
      "metadata": {
        "id": "fP1uJP0UPv_a"
      }
    },
    {
      "cell_type": "code",
      "source": [
        "# Initialize the models\n",
        "linear_model = LinearRegression()\n",
        "\n",
        "# Train the models\n",
        "linear_model.fit(X_train, y_train)\n",
        "\n",
        "# Make predictions\n",
        "y_linear_pred = linear_model.predict(X_test)\n"
      ],
      "metadata": {
        "id": "sGVF_PnCkS9o"
      },
      "execution_count": 44,
      "outputs": []
    },
    {
      "cell_type": "code",
      "source": [
        "y_linear_pred"
      ],
      "metadata": {
        "colab": {
          "base_uri": "https://localhost:8080/"
        },
        "id": "_KDBB2V0kXH6",
        "outputId": "dc8a7f25-62be-41bb-e2f3-f27df9e57f63"
      },
      "execution_count": 45,
      "outputs": [
        {
          "output_type": "execute_result",
          "data": {
            "text/plain": [
              "array([[-1.19348717],\n",
              "       [-0.25284932],\n",
              "       [ 1.73546349],\n",
              "       [-0.76065887],\n",
              "       [-1.09928988],\n",
              "       [ 1.21428971],\n",
              "       [ 0.96208426],\n",
              "       [-0.44472972],\n",
              "       [ 0.0054811 ],\n",
              "       [ 1.13789225],\n",
              "       [ 0.16914668],\n",
              "       [ 1.00437958],\n",
              "       [-1.31891122],\n",
              "       [-0.20228269],\n",
              "       [-1.17204794],\n",
              "       [-0.83103339],\n",
              "       [-1.09321825],\n",
              "       [ 0.1380302 ],\n",
              "       [-1.008827  ],\n",
              "       [-0.65840302],\n",
              "       [-0.47449   ],\n",
              "       [ 0.40295172],\n",
              "       [ 1.58718056],\n",
              "       [-1.53488426],\n",
              "       [ 0.68876353],\n",
              "       [ 1.11448294],\n",
              "       [-1.31106412],\n",
              "       [ 0.5998629 ],\n",
              "       [-1.45433543],\n",
              "       [-0.04595048],\n",
              "       [ 0.69364942],\n",
              "       [-0.18814119],\n",
              "       [-1.15637529],\n",
              "       [-0.38502569],\n",
              "       [ 0.80047591],\n",
              "       [ 0.53132353],\n",
              "       [ 0.33975899],\n",
              "       [-0.1096934 ],\n",
              "       [ 0.85688504],\n",
              "       [ 0.5032013 ]])"
            ]
          },
          "metadata": {},
          "execution_count": 45
        }
      ]
    },
    {
      "cell_type": "code",
      "source": [
        "# Evaluate the models\n",
        "mse_lr = mean_squared_error(y_test, y_linear_pred)\n",
        "\n",
        "r2_lr = r2_score(y_test, y_linear_pred)\n",
        "\n",
        "# Display the results\n",
        "print(f'Linear Regression - MSE: {mse_lr}, R2: {r2_lr}')"
      ],
      "metadata": {
        "colab": {
          "base_uri": "https://localhost:8080/"
        },
        "id": "EYCGzVWjlNIp",
        "outputId": "d11e3d52-13e4-495d-e114-fedf41ed9b1f"
      },
      "execution_count": 46,
      "outputs": [
        {
          "output_type": "stream",
          "name": "stdout",
          "text": [
            "Linear Regression - MSE: 0.08738377761878846, R2: 0.9130003152798273\n"
          ]
        }
      ]
    },
    {
      "cell_type": "markdown",
      "source": [
        "**Residual Plot**"
      ],
      "metadata": {
        "id": "45_5ozQgSXGU"
      }
    },
    {
      "cell_type": "code",
      "source": [
        "# Residual plot\n",
        "plt.figure(figsize=(12, 6))\n",
        "plt.scatter(y_linear_pred, y_linear_pred - y_test, c='orange', marker='s', label='Test data')\n",
        "plt.xlabel('Predicted values')\n",
        "plt.ylabel('Residuals')\n",
        "plt.legend(loc='upper left')\n",
        "plt.hlines(y=0, xmin=y_linear_pred.min(), xmax=y_linear_pred.max(), color='red')\n",
        "plt.title('Residual Plot')\n",
        "plt.show()"
      ],
      "metadata": {
        "colab": {
          "base_uri": "https://localhost:8080/",
          "height": 564
        },
        "id": "K5EeR08XQcnD",
        "outputId": "17d20d3a-1b70-4a81-d1d8-a9c3859cdd4e"
      },
      "execution_count": 47,
      "outputs": [
        {
          "output_type": "display_data",
          "data": {
            "text/plain": [
              "<Figure size 1200x600 with 1 Axes>"
            ],
            "image/png": "[encoded data removed]"
          },
          "metadata": {}
        }
      ]
    },
    {
      "cell_type": "markdown",
      "source": [
        "**Predicted vs Actual plot**"
      ],
      "metadata": {
        "id": "GOHATyqLSbdj"
      }
    },
    {
      "cell_type": "code",
      "source": [
        "# Predicted vs Actual plot\n",
        "plt.figure(figsize=(12, 6))\n",
        "plt.scatter(y_test, y_linear_pred, c='orange', marker='s', label='Test data')\n",
        "plt.xlabel('Actual values')\n",
        "plt.ylabel('Predicted values')\n",
        "plt.legend(loc='upper left')\n",
        "plt.plot([y.min(), y.max()], [y.min(), y.max()], color='red')\n",
        "plt.title('Predicted vs Actual Plot')\n",
        "plt.show()"
      ],
      "metadata": {
        "colab": {
          "base_uri": "https://localhost:8080/",
          "height": 564
        },
        "id": "IIityh4OSQnN",
        "outputId": "4fd4bccf-8e76-4351-bf5f-80b959a62ecb"
      },
      "execution_count": 48,
      "outputs": [
        {
          "output_type": "display_data",
          "data": {
            "text/plain": [
              "<Figure size 1200x600 with 1 Axes>"
            ],
            "image/png": "[encoded data removed]"
          },
          "metadata": {}
        }
      ]
    },
    {
      "cell_type": "markdown",
      "source": [
        "# **Decision Tree Regressor**"
      ],
      "metadata": {
        "id": "omZKCM6XP4oi"
      }
    },
    {
      "cell_type": "code",
      "source": [
        "decision_model = DecisionTreeRegressor()\n",
        "\n",
        "decision_model.fit(X_train, y_train)\n",
        "\n",
        "y_decision_pred = decision_model.predict(X_test)"
      ],
      "metadata": {
        "id": "2mShgcJwln51"
      },
      "execution_count": 49,
      "outputs": []
    },
    {
      "cell_type": "code",
      "source": [
        "y_decision_pred"
      ],
      "metadata": {
        "colab": {
          "base_uri": "https://localhost:8080/"
        },
        "id": "a-xGkDXyZiw8",
        "outputId": "0bbaf6fb-3546-4227-dec2-f0045f7dd5a2"
      },
      "execution_count": 50,
      "outputs": [
        {
          "output_type": "execute_result",
          "data": {
            "text/plain": [
              "array([-1.25526449, -0.3233257 ,  1.35036028, -0.77978551, -1.86387757,\n",
              "        1.65466682,  0.85586215, -0.51351729, -0.91291963,  1.10311121,\n",
              "        0.38038318,  1.63564766, -1.86387757, -0.4184215 , -0.60861308,\n",
              "       -0.4184215 , -1.86387757,  0.24724907, -1.27428364, -0.34234486,\n",
              "       -0.34234486,  0.17117243,  1.95897336, -1.42643692,  0.43744065,\n",
              "        1.25526449, -1.42643692,  0.4184215 , -1.42643692,  0.53253645,\n",
              "        0.62763224, -0.01901916, -0.60861308, -0.09509579,  0.49449813,\n",
              "        1.0650729 ,  1.04605374,  0.53253645,  0.72272804,  0.28528738])"
            ]
          },
          "metadata": {},
          "execution_count": 50
        }
      ]
    },
    {
      "cell_type": "code",
      "source": [
        "y_decision_pred= y_decision_pred.reshape(-1,1)"
      ],
      "metadata": {
        "id": "kCW9zHWPlz35"
      },
      "execution_count": 51,
      "outputs": []
    },
    {
      "cell_type": "code",
      "source": [
        "mse_dt = mean_squared_error(y_test, y_decision_pred)\n",
        "\n",
        "r2_dt = r2_score(y_test, y_decision_pred)\n",
        "\n",
        "\n",
        "print(f'Decision Tree - MSE: {mse_dt}, R2: {r2_dt}')"
      ],
      "metadata": {
        "colab": {
          "base_uri": "https://localhost:8080/"
        },
        "id": "jnIkDlV-l3WT",
        "outputId": "61fce45b-09d9-4b87-9068-d75fbbd83759"
      },
      "execution_count": 52,
      "outputs": [
        {
          "output_type": "stream",
          "name": "stdout",
          "text": [
            "Decision Tree - MSE: 0.06700114364636846, R2: 0.9332933579668025\n"
          ]
        }
      ]
    },
    {
      "cell_type": "markdown",
      "source": [
        "**Residual PLot**"
      ],
      "metadata": {
        "id": "lDj7rLLoWCwc"
      }
    },
    {
      "cell_type": "code",
      "source": [
        "# Residual plot\n",
        "plt.figure(figsize=(12, 6))\n",
        "plt.scatter(y_decision_pred,(y_decision_pred - y_test), c='orange', marker='s', label='Test data')\n",
        "plt.xlabel('Predicted values')\n",
        "plt.ylabel('Residuals')\n",
        "plt.legend(loc='upper left')\n",
        "plt.hlines(y=0, xmin=y_decision_pred.min(), xmax=y_decision_pred.max(), color='red')\n",
        "plt.title('Residual Plot')\n",
        "plt.show()"
      ],
      "metadata": {
        "colab": {
          "base_uri": "https://localhost:8080/",
          "height": 564
        },
        "id": "g0YSErx-Se64",
        "outputId": "90e6c462-e5ec-499a-ccc2-906e9cacad2c"
      },
      "execution_count": 53,
      "outputs": [
        {
          "output_type": "display_data",
          "data": {
            "text/plain": [
              "<Figure size 1200x600 with 1 Axes>"
            ],
            "image/png": "[encoded data removed]"
          },
          "metadata": {}
        }
      ]
    },
    {
      "cell_type": "markdown",
      "source": [
        "**Predicted vs Actual plot**"
      ],
      "metadata": {
        "id": "iS2uafEsWGwE"
      }
    },
    {
      "cell_type": "code",
      "source": [
        "# Predicted vs Actual plot\n",
        "plt.figure(figsize=(12, 6))\n",
        "plt.scatter(y_test, y_decision_pred, c='orange', marker='s', label='Test data')\n",
        "plt.xlabel('Actual values')\n",
        "plt.ylabel('Predicted values')\n",
        "plt.legend(loc='upper left')\n",
        "plt.plot([y.min(), y.max()], [y.min(), y.max()], color='red')\n",
        "plt.title('Predicted vs Actual Plot')\n",
        "plt.show()"
      ],
      "metadata": {
        "colab": {
          "base_uri": "https://localhost:8080/",
          "height": 564
        },
        "id": "ao-qO3WNTEg0",
        "outputId": "65d521fb-0069-408a-892d-7369ba017b4c"
      },
      "execution_count": 55,
      "outputs": [
        {
          "output_type": "display_data",
          "data": {
            "text/plain": [
              "<Figure size 1200x600 with 1 Axes>"
            ],
            "image/png": "[encoded data removed]"
          },
          "metadata": {}
        }
      ]
    },
    {
      "cell_type": "markdown",
      "source": [
        "# **Random Forest Regressor**"
      ],
      "metadata": {
        "id": "ziETZL5eP9y7"
      }
    },
    {
      "cell_type": "code",
      "source": [
        "random_model = RandomForestRegressor()\n",
        "\n",
        "random_model.fit(X_train, y_train)\n",
        "\n",
        "y_random_pred = random_model.predict(X_test)"
      ],
      "metadata": {
        "id": "LnOn6UAvhHXG",
        "colab": {
          "base_uri": "https://localhost:8080/"
        },
        "outputId": "fd346ab7-6463-458e-97ae-657ad9128943"
      },
      "execution_count": 56,
      "outputs": [
        {
          "output_type": "stream",
          "name": "stderr",
          "text": [
            "<ipython-input-56-bf93474fa3dc>:3: DataConversionWarning: A column-vector y was passed when a 1d array was expected. Please change the shape of y to (n_samples,), for example using ravel().\n",
            "  random_model.fit(X_train, y_train)\n"
          ]
        }
      ]
    },
    {
      "cell_type": "code",
      "source": [
        "y_random_pred"
      ],
      "metadata": {
        "colab": {
          "base_uri": "https://localhost:8080/"
        },
        "id": "4XngmQPDmPB8",
        "outputId": "f9983f8a-f856-4fdc-cdde-30198e5b5b44"
      },
      "execution_count": 57,
      "outputs": [
        {
          "output_type": "execute_result",
          "data": {
            "text/plain": [
              "array([-1.22635536, -0.53272664,  1.45534604, -0.5743786 , -1.72427694,\n",
              "        1.5669885 ,  0.79747333, -0.50667039, -0.18144278,  0.77921494,\n",
              "        0.35584846,  1.50936045, -1.7975007 , -0.35166425, -0.58826258,\n",
              "       -0.64284757, -1.74862147,  0.29289505, -1.06031811, -0.47224571,\n",
              "       -0.25143328,  0.38799084,  1.92435849, -1.48615707,  0.55231637,\n",
              "        1.33837821, -1.38041055,  0.44790119, -1.45762834,  0.20787941,\n",
              "        0.64341814, -0.12533626, -0.55003407, -0.34082333,  0.45588924,\n",
              "        1.0401578 ,  0.895422  ,  0.19342485,  0.65045523,  0.52397783])"
            ]
          },
          "metadata": {},
          "execution_count": 57
        }
      ]
    },
    {
      "cell_type": "code",
      "source": [
        "y_random_pred = y_random_pred.reshape(-1,1)"
      ],
      "metadata": {
        "id": "LyZZWRHqWLz8"
      },
      "execution_count": 58,
      "outputs": []
    },
    {
      "cell_type": "code",
      "source": [
        "mse_rf = mean_squared_error(y_test, y_random_pred)\n",
        "\n",
        "r2_rf = r2_score(y_test, y_random_pred)\n",
        "\n",
        "print(f'Random Forest - MSE: {mse_rf}, R2: {r2_rf}')"
      ],
      "metadata": {
        "colab": {
          "base_uri": "https://localhost:8080/"
        },
        "id": "ZyBqSBfUmWBo",
        "outputId": "fa146ecc-7cba-4b99-fd58-7846e65185a5"
      },
      "execution_count": 59,
      "outputs": [
        {
          "output_type": "stream",
          "name": "stdout",
          "text": [
            "Random Forest - MSE: 0.03438487387919, R2: 0.9657662638518246\n"
          ]
        }
      ]
    },
    {
      "cell_type": "markdown",
      "source": [
        "**Residual Plot**"
      ],
      "metadata": {
        "id": "_TLIcuvlWW_c"
      }
    },
    {
      "cell_type": "code",
      "source": [
        "# Residual plot\n",
        "plt.figure(figsize=(12, 6))\n",
        "plt.scatter(y_random_pred,(y_random_pred - y_test), c='orange', marker='s', label='Test data')\n",
        "plt.xlabel('Predicted values')\n",
        "plt.ylabel('Residuals')\n",
        "plt.legend(loc='upper left')\n",
        "plt.hlines(y=0, xmin=y_random_pred.min(), xmax=y_random_pred.max(), color='red')\n",
        "plt.title('Residual Plot')\n",
        "plt.show()"
      ],
      "metadata": {
        "colab": {
          "base_uri": "https://localhost:8080/",
          "height": 564
        },
        "id": "mE1ZzyYYUHXN",
        "outputId": "f07e9314-9b4a-42cb-f1d9-82c9526e76c3"
      },
      "execution_count": 60,
      "outputs": [
        {
          "output_type": "display_data",
          "data": {
            "text/plain": [
              "<Figure size 1200x600 with 1 Axes>"
            ],
            "image/png": "[encoded data removed]"
          },
          "metadata": {}
        }
      ]
    },
    {
      "cell_type": "markdown",
      "source": [
        "**Predicted vs Actual plot**"
      ],
      "metadata": {
        "id": "LUCg3h6YWeQN"
      }
    },
    {
      "cell_type": "code",
      "source": [
        "# Predicted vs Actual plot\n",
        "plt.figure(figsize=(12, 6))\n",
        "plt.scatter(y_test, y_random_pred, c='orange', marker='s', label='Test data')\n",
        "plt.xlabel('Actual values')\n",
        "plt.ylabel('Predicted values')\n",
        "plt.legend(loc='upper left')\n",
        "plt.plot([y.min(), y.max()], [y.min(), y.max()], color='red')\n",
        "plt.title('Predicted vs Actual Plot')\n",
        "plt.show()"
      ],
      "metadata": {
        "colab": {
          "base_uri": "https://localhost:8080/",
          "height": 564
        },
        "id": "SEMF8qBUWa5d",
        "outputId": "6f0975bf-2575-45ff-aef1-1f945c201e7d"
      },
      "execution_count": 61,
      "outputs": [
        {
          "output_type": "display_data",
          "data": {
            "text/plain": [
              "<Figure size 1200x600 with 1 Axes>"
            ],
            "image/png": "[encoded data removed]"
          },
          "metadata": {}
        }
      ]
    },
    {
      "cell_type": "markdown",
      "source": [
        "# **Support Vector Regression (SVR)**"
      ],
      "metadata": {
        "id": "RenJHlNBQDyy"
      }
    },
    {
      "cell_type": "code",
      "source": [
        "svr = SVR(kernel='linear')\n",
        "\n",
        "svr.fit(X_train, y_train)\n",
        "\n",
        "y_svr_pred = svr.predict(X_test)"
      ],
      "metadata": {
        "id": "FfaobBr2mRjb",
        "colab": {
          "base_uri": "https://localhost:8080/"
        },
        "outputId": "07c984ff-e212-4f22-b445-f1d942354119"
      },
      "execution_count": 64,
      "outputs": [
        {
          "output_type": "stream",
          "name": "stderr",
          "text": [
            "/usr/local/lib/python3.10/dist-packages/sklearn/utils/validation.py:1143: DataConversionWarning: A column-vector y was passed when a 1d array was expected. Please change the shape of y to (n_samples, ), for example using ravel().\n",
            "  y = column_or_1d(y, warn=True)\n"
          ]
        }
      ]
    },
    {
      "cell_type": "code",
      "source": [
        "y_svr_pred"
      ],
      "metadata": {
        "colab": {
          "base_uri": "https://localhost:8080/"
        },
        "id": "DAM3B6yaWsHc",
        "outputId": "c94ed226-881f-400f-9301-bf9c20171ca5"
      },
      "execution_count": 65,
      "outputs": [
        {
          "output_type": "execute_result",
          "data": {
            "text/plain": [
              "array([-1.16291753, -0.25261173,  1.75546658, -0.77280769, -1.05840366,\n",
              "        1.26627992,  0.98160112, -0.4406263 ,  0.02130483,  1.12489895,\n",
              "        0.17122255,  1.04466875, -1.29025068, -0.19214674, -1.18470894,\n",
              "       -0.83580657, -1.05022025,  0.11631246, -0.98188231, -0.63039808,\n",
              "       -0.4435873 ,  0.43997892,  1.61387567, -1.52744132,  0.70156664,\n",
              "        1.15325352, -1.2953115 ,  0.56139375, -1.44070975, -0.06054393,\n",
              "        0.71077578, -0.16186501, -1.1692522 , -0.33494128,  0.77527494,\n",
              "        0.5769502 ,  0.34730995, -0.1198981 ,  0.86446774,  0.51506883])"
            ]
          },
          "metadata": {},
          "execution_count": 65
        }
      ]
    },
    {
      "cell_type": "code",
      "source": [
        "y_svr_pred = y_svr_pred.reshape(-1,1)"
      ],
      "metadata": {
        "id": "ZiXHGRVTWsFV"
      },
      "execution_count": 66,
      "outputs": []
    },
    {
      "cell_type": "code",
      "source": [
        "mse_svr = mean_squared_error(y_test, y_svr_pred)\n",
        "\n",
        "r2_svr = r2_score(y_test, y_random_pred)\n",
        "\n",
        "print(f'Random Forest - MSE: {mse_svr}, R2: {r2_svr}')"
      ],
      "metadata": {
        "colab": {
          "base_uri": "https://localhost:8080/"
        },
        "id": "xaGr_e0_nD7D",
        "outputId": "78459ee9-1cec-4780-c825-9c79b14e5b93"
      },
      "execution_count": 67,
      "outputs": [
        {
          "output_type": "stream",
          "name": "stdout",
          "text": [
            "Random Forest - MSE: 0.08585942941860104, R2: 0.9657662638518246\n"
          ]
        }
      ]
    },
    {
      "cell_type": "markdown",
      "source": [
        "**Residual Plot**"
      ],
      "metadata": {
        "id": "9t3qzWprWjFT"
      }
    },
    {
      "cell_type": "code",
      "source": [
        "# Residual plot\n",
        "plt.figure(figsize=(12, 6))\n",
        "plt.scatter(y_svr_pred,(y_svr_pred - y_test), c='orange', marker='s', label='Test data')\n",
        "plt.xlabel('Predicted values')\n",
        "plt.ylabel('Residuals')\n",
        "plt.legend(loc='upper left')\n",
        "plt.hlines(y=0, xmin=y_svr_pred.min(), xmax=y_svr_pred.max(), color='red')\n",
        "plt.title('Residual Plot')\n",
        "plt.show()"
      ],
      "metadata": {
        "colab": {
          "base_uri": "https://localhost:8080/",
          "height": 564
        },
        "id": "lFqvR0brWibV",
        "outputId": "6dc328b0-3795-44a8-b24c-5bfabdaedbe6"
      },
      "execution_count": 68,
      "outputs": [
        {
          "output_type": "display_data",
          "data": {
            "text/plain": [
              "<Figure size 1200x600 with 1 Axes>"
            ],
            "image/png": "[encoded data removed]"
          },
          "metadata": {}
        }
      ]
    },
    {
      "cell_type": "markdown",
      "source": [
        "**Predicted vs Actual plot**"
      ],
      "metadata": {
        "id": "4YzJyndqW3yE"
      }
    },
    {
      "cell_type": "code",
      "source": [
        "# Predicted vs Actual plot\n",
        "plt.figure(figsize=(12, 6))\n",
        "plt.scatter(y_test, y_svr_pred, c='orange', marker='s', label='Test data')\n",
        "plt.xlabel('Actual values')\n",
        "plt.ylabel('Predicted values')\n",
        "plt.legend(loc='upper left')\n",
        "plt.plot([y.min(), y.max()], [y.min(), y.max()], color='red')\n",
        "plt.title('Predicted vs Actual Plot')\n",
        "plt.show()"
      ],
      "metadata": {
        "colab": {
          "base_uri": "https://localhost:8080/",
          "height": 564
        },
        "id": "MatjGskXWiZD",
        "outputId": "9d08f010-343a-41c6-f29f-205fae6564aa"
      },
      "execution_count": 69,
      "outputs": [
        {
          "output_type": "display_data",
          "data": {
            "text/plain": [
              "<Figure size 1200x600 with 1 Axes>"
            ],
            "image/png": "[encoded data removed]"
          },
          "metadata": {}
        }
      ]
    },
    {
      "cell_type": "markdown",
      "source": [
        "# **LSTM**"
      ],
      "metadata": {
        "id": "OQQ0A5upQNvD"
      }
    },
    {
      "cell_type": "code",
      "source": [
        "# Split the data into training and testing sets\n",
        "scaler = StandardScaler()\n",
        "scaled_data=scaler.fit_transform(data)\n",
        "train_size = int(len(scaled_data) * 0.8)\n",
        "train_data, test_data = scaled_data[:train_size], scaled_data[train_size:]"
      ],
      "metadata": {
        "id": "ZphTOlNTLpGi"
      },
      "execution_count": 70,
      "outputs": []
    },
    {
      "cell_type": "code",
      "source": [
        "# Reshape the data to fit the LSTM model requirements\n",
        "def create_dataset(dataset, look_back=1):\n",
        "    X, Y = [], []\n",
        "    for i in range(len(dataset) - look_back - 1):\n",
        "        a = dataset[i:(i + look_back), :]\n",
        "        X.append(a)\n",
        "        Y.append(dataset[i + look_back, 3])  # 'Sales' is the target variable\n",
        "    return np.array(X), np.array(Y)"
      ],
      "metadata": {
        "id": "DLx9sFH1Lrna"
      },
      "execution_count": 73,
      "outputs": []
    },
    {
      "cell_type": "code",
      "source": [
        "look_back =  3\n",
        "lstm_X_train, lstm_y_train = create_dataset(train_data, look_back)\n",
        "lstm_X_test, lstm_y_test = create_dataset(test_data, look_back)"
      ],
      "metadata": {
        "id": "a0GVXhcfLuDM"
      },
      "execution_count": 74,
      "outputs": []
    },
    {
      "cell_type": "code",
      "source": [
        "# Build the LSTM model\n",
        "model = Sequential()\n",
        "model.add(LSTM(100, input_shape=(look_back, len(data.columns))))\n",
        "model.add(Dense(1))\n",
        "model.compile(optimizer='adam', loss='mean_squared_error')"
      ],
      "metadata": {
        "id": "HTHc5QNTLv6r"
      },
      "execution_count": 75,
      "outputs": []
    },
    {
      "cell_type": "code",
      "source": [
        "# Train the model\n",
        "model.fit(lstm_X_train, lstm_y_train, epochs=150, batch_size=1, verbose=2)"
      ],
      "metadata": {
        "colab": {
          "base_uri": "https://localhost:8080/"
        },
        "id": "rPzkjVdHLz98",
        "outputId": "ed64d377-48fe-48a4-b8b4-e46640f5093c"
      },
      "execution_count": 76,
      "outputs": [
        {
          "output_type": "stream",
          "name": "stdout",
          "text": [
            "Epoch 1/150\n",
            "154/154 - 3s - loss: 1.0187 - 3s/epoch - 20ms/step\n",
            "Epoch 2/150\n",
            "154/154 - 1s - loss: 0.9794 - 616ms/epoch - 4ms/step\n",
            "Epoch 3/150\n",
            "154/154 - 1s - loss: 0.9826 - 623ms/epoch - 4ms/step\n",
            "Epoch 4/150\n",
            "154/154 - 1s - loss: 0.9600 - 641ms/epoch - 4ms/step\n",
            "Epoch 5/150\n",
            "154/154 - 1s - loss: 0.9417 - 611ms/epoch - 4ms/step\n",
            "Epoch 6/150\n",
            "154/154 - 1s - loss: 0.9272 - 643ms/epoch - 4ms/step\n",
            "Epoch 7/150\n",
            "154/154 - 1s - loss: 0.8965 - 655ms/epoch - 4ms/step\n",
            "Epoch 8/150\n",
            "154/154 - 1s - loss: 0.8775 - 614ms/epoch - 4ms/step\n",
            "Epoch 9/150\n",
            "154/154 - 1s - loss: 0.8471 - 639ms/epoch - 4ms/step\n",
            "Epoch 10/150\n",
            "154/154 - 1s - loss: 0.8251 - 626ms/epoch - 4ms/step\n",
            "Epoch 11/150\n",
            "154/154 - 1s - loss: 0.7972 - 652ms/epoch - 4ms/step\n",
            "Epoch 12/150\n",
            "154/154 - 1s - loss: 0.7822 - 613ms/epoch - 4ms/step\n",
            "Epoch 13/150\n",
            "154/154 - 1s - loss: 0.7575 - 578ms/epoch - 4ms/step\n",
            "Epoch 14/150\n",
            "154/154 - 1s - loss: 0.7443 - 587ms/epoch - 4ms/step\n",
            "Epoch 15/150\n",
            "154/154 - 1s - loss: 0.7059 - 862ms/epoch - 6ms/step\n",
            "Epoch 16/150\n",
            "154/154 - 1s - loss: 0.6962 - 947ms/epoch - 6ms/step\n",
            "Epoch 17/150\n",
            "154/154 - 1s - loss: 0.6733 - 928ms/epoch - 6ms/step\n",
            "Epoch 18/150\n",
            "154/154 - 1s - loss: 0.6437 - 999ms/epoch - 6ms/step\n",
            "Epoch 19/150\n",
            "154/154 - 1s - loss: 0.6135 - 1000ms/epoch - 6ms/step\n",
            "Epoch 20/150\n",
            "154/154 - 1s - loss: 0.5868 - 973ms/epoch - 6ms/step\n",
            "Epoch 21/150\n",
            "154/154 - 1s - loss: 0.5570 - 957ms/epoch - 6ms/step\n",
            "Epoch 22/150\n",
            "154/154 - 1s - loss: 0.5233 - 1s/epoch - 7ms/step\n",
            "Epoch 23/150\n",
            "154/154 - 1s - loss: 0.4932 - 598ms/epoch - 4ms/step\n",
            "Epoch 24/150\n",
            "154/154 - 1s - loss: 0.4817 - 565ms/epoch - 4ms/step\n",
            "Epoch 25/150\n",
            "154/154 - 1s - loss: 0.4526 - 584ms/epoch - 4ms/step\n",
            "Epoch 26/150\n",
            "154/154 - 1s - loss: 0.4129 - 575ms/epoch - 4ms/step\n",
            "Epoch 27/150\n",
            "154/154 - 1s - loss: 0.3904 - 590ms/epoch - 4ms/step\n",
            "Epoch 28/150\n",
            "154/154 - 1s - loss: 0.3610 - 586ms/epoch - 4ms/step\n",
            "Epoch 29/150\n",
            "154/154 - 1s - loss: 0.3237 - 588ms/epoch - 4ms/step\n",
            "Epoch 30/150\n",
            "154/154 - 1s - loss: 0.3062 - 580ms/epoch - 4ms/step\n",
            "Epoch 31/150\n",
            "154/154 - 1s - loss: 0.2787 - 589ms/epoch - 4ms/step\n",
            "Epoch 32/150\n",
            "154/154 - 1s - loss: 0.2647 - 627ms/epoch - 4ms/step\n",
            "Epoch 33/150\n",
            "154/154 - 1s - loss: 0.2452 - 551ms/epoch - 4ms/step\n",
            "Epoch 34/150\n",
            "154/154 - 1s - loss: 0.2246 - 935ms/epoch - 6ms/step\n",
            "Epoch 35/150\n",
            "154/154 - 1s - loss: 0.2103 - 927ms/epoch - 6ms/step\n",
            "Epoch 36/150\n",
            "154/154 - 1s - loss: 0.1845 - 960ms/epoch - 6ms/step\n",
            "Epoch 37/150\n",
            "154/154 - 1s - loss: 0.1798 - 1s/epoch - 7ms/step\n",
            "Epoch 38/150\n",
            "154/154 - 1s - loss: 0.1591 - 655ms/epoch - 4ms/step\n",
            "Epoch 39/150\n",
            "154/154 - 1s - loss: 0.1429 - 669ms/epoch - 4ms/step\n",
            "Epoch 40/150\n",
            "154/154 - 1s - loss: 0.1293 - 672ms/epoch - 4ms/step\n",
            "Epoch 41/150\n",
            "154/154 - 1s - loss: 0.1040 - 638ms/epoch - 4ms/step\n",
            "Epoch 42/150\n",
            "154/154 - 1s - loss: 0.1114 - 609ms/epoch - 4ms/step\n",
            "Epoch 43/150\n",
            "154/154 - 1s - loss: 0.0992 - 628ms/epoch - 4ms/step\n",
            "Epoch 44/150\n",
            "154/154 - 1s - loss: 0.0895 - 601ms/epoch - 4ms/step\n",
            "Epoch 45/150\n",
            "154/154 - 1s - loss: 0.0777 - 593ms/epoch - 4ms/step\n",
            "Epoch 46/150\n",
            "154/154 - 1s - loss: 0.0648 - 600ms/epoch - 4ms/step\n",
            "Epoch 47/150\n",
            "154/154 - 1s - loss: 0.0664 - 570ms/epoch - 4ms/step\n",
            "Epoch 48/150\n",
            "154/154 - 1s - loss: 0.0559 - 580ms/epoch - 4ms/step\n",
            "Epoch 49/150\n",
            "154/154 - 1s - loss: 0.0686 - 600ms/epoch - 4ms/step\n",
            "Epoch 50/150\n",
            "154/154 - 1s - loss: 0.0552 - 603ms/epoch - 4ms/step\n",
            "Epoch 51/150\n",
            "154/154 - 1s - loss: 0.0468 - 598ms/epoch - 4ms/step\n",
            "Epoch 52/150\n",
            "154/154 - 1s - loss: 0.0449 - 601ms/epoch - 4ms/step\n",
            "Epoch 53/150\n",
            "154/154 - 1s - loss: 0.0440 - 627ms/epoch - 4ms/step\n",
            "Epoch 54/150\n",
            "154/154 - 1s - loss: 0.0336 - 824ms/epoch - 5ms/step\n",
            "Epoch 55/150\n",
            "154/154 - 1s - loss: 0.0356 - 1s/epoch - 7ms/step\n",
            "Epoch 56/150\n",
            "154/154 - 1s - loss: 0.0306 - 1s/epoch - 7ms/step\n",
            "Epoch 57/150\n",
            "154/154 - 1s - loss: 0.0313 - 1s/epoch - 7ms/step\n",
            "Epoch 58/150\n",
            "154/154 - 1s - loss: 0.0303 - 697ms/epoch - 5ms/step\n",
            "Epoch 59/150\n",
            "154/154 - 1s - loss: 0.0280 - 628ms/epoch - 4ms/step\n",
            "Epoch 60/150\n",
            "154/154 - 1s - loss: 0.0342 - 622ms/epoch - 4ms/step\n",
            "Epoch 61/150\n",
            "154/154 - 1s - loss: 0.0254 - 596ms/epoch - 4ms/step\n",
            "Epoch 62/150\n",
            "154/154 - 1s - loss: 0.0298 - 564ms/epoch - 4ms/step\n",
            "Epoch 63/150\n",
            "154/154 - 1s - loss: 0.0255 - 586ms/epoch - 4ms/step\n",
            "Epoch 64/150\n",
            "154/154 - 1s - loss: 0.0308 - 553ms/epoch - 4ms/step\n",
            "Epoch 65/150\n",
            "154/154 - 1s - loss: 0.0353 - 580ms/epoch - 4ms/step\n",
            "Epoch 66/150\n",
            "154/154 - 1s - loss: 0.0373 - 571ms/epoch - 4ms/step\n",
            "Epoch 67/150\n",
            "154/154 - 1s - loss: 0.0204 - 567ms/epoch - 4ms/step\n",
            "Epoch 68/150\n",
            "154/154 - 1s - loss: 0.0202 - 624ms/epoch - 4ms/step\n",
            "Epoch 69/150\n",
            "154/154 - 1s - loss: 0.0211 - 553ms/epoch - 4ms/step\n",
            "Epoch 70/150\n",
            "154/154 - 1s - loss: 0.0217 - 606ms/epoch - 4ms/step\n",
            "Epoch 71/150\n",
            "154/154 - 1s - loss: 0.0253 - 568ms/epoch - 4ms/step\n",
            "Epoch 72/150\n",
            "154/154 - 1s - loss: 0.0173 - 604ms/epoch - 4ms/step\n",
            "Epoch 73/150\n",
            "154/154 - 1s - loss: 0.0175 - 605ms/epoch - 4ms/step\n",
            "Epoch 74/150\n",
            "154/154 - 1s - loss: 0.0201 - 660ms/epoch - 4ms/step\n",
            "Epoch 75/150\n",
            "154/154 - 1s - loss: 0.0151 - 978ms/epoch - 6ms/step\n",
            "Epoch 76/150\n",
            "154/154 - 1s - loss: 0.0123 - 941ms/epoch - 6ms/step\n",
            "Epoch 77/150\n",
            "154/154 - 1s - loss: 0.0122 - 959ms/epoch - 6ms/step\n",
            "Epoch 78/150\n",
            "154/154 - 1s - loss: 0.0242 - 850ms/epoch - 6ms/step\n",
            "Epoch 79/150\n",
            "154/154 - 1s - loss: 0.0174 - 576ms/epoch - 4ms/step\n",
            "Epoch 80/150\n",
            "154/154 - 1s - loss: 0.0146 - 584ms/epoch - 4ms/step\n",
            "Epoch 81/150\n",
            "154/154 - 1s - loss: 0.0173 - 628ms/epoch - 4ms/step\n",
            "Epoch 82/150\n",
            "154/154 - 1s - loss: 0.0165 - 595ms/epoch - 4ms/step\n",
            "Epoch 83/150\n",
            "154/154 - 1s - loss: 0.0204 - 577ms/epoch - 4ms/step\n",
            "Epoch 84/150\n",
            "154/154 - 1s - loss: 0.0185 - 583ms/epoch - 4ms/step\n",
            "Epoch 85/150\n",
            "154/154 - 1s - loss: 0.0151 - 606ms/epoch - 4ms/step\n",
            "Epoch 86/150\n",
            "154/154 - 1s - loss: 0.0188 - 594ms/epoch - 4ms/step\n",
            "Epoch 87/150\n",
            "154/154 - 1s - loss: 0.0194 - 607ms/epoch - 4ms/step\n",
            "Epoch 88/150\n",
            "154/154 - 1s - loss: 0.0201 - 608ms/epoch - 4ms/step\n",
            "Epoch 89/150\n",
            "154/154 - 1s - loss: 0.0182 - 604ms/epoch - 4ms/step\n",
            "Epoch 90/150\n",
            "154/154 - 1s - loss: 0.0133 - 604ms/epoch - 4ms/step\n",
            "Epoch 91/150\n",
            "154/154 - 1s - loss: 0.0124 - 578ms/epoch - 4ms/step\n",
            "Epoch 92/150\n",
            "154/154 - 1s - loss: 0.0134 - 622ms/epoch - 4ms/step\n",
            "Epoch 93/150\n",
            "154/154 - 1s - loss: 0.0121 - 613ms/epoch - 4ms/step\n",
            "Epoch 94/150\n",
            "154/154 - 1s - loss: 0.0116 - 571ms/epoch - 4ms/step\n",
            "Epoch 95/150\n",
            "154/154 - 1s - loss: 0.0178 - 765ms/epoch - 5ms/step\n",
            "Epoch 96/150\n",
            "154/154 - 1s - loss: 0.0137 - 947ms/epoch - 6ms/step\n",
            "Epoch 97/150\n",
            "154/154 - 1s - loss: 0.0161 - 973ms/epoch - 6ms/step\n",
            "Epoch 98/150\n",
            "154/154 - 1s - loss: 0.0209 - 965ms/epoch - 6ms/step\n",
            "Epoch 99/150\n",
            "154/154 - 1s - loss: 0.0163 - 743ms/epoch - 5ms/step\n",
            "Epoch 100/150\n",
            "154/154 - 1s - loss: 0.0121 - 601ms/epoch - 4ms/step\n",
            "Epoch 101/150\n",
            "154/154 - 1s - loss: 0.0106 - 575ms/epoch - 4ms/step\n",
            "Epoch 102/150\n",
            "154/154 - 1s - loss: 0.0108 - 584ms/epoch - 4ms/step\n",
            "Epoch 103/150\n",
            "154/154 - 1s - loss: 0.0123 - 618ms/epoch - 4ms/step\n",
            "Epoch 104/150\n",
            "154/154 - 1s - loss: 0.0161 - 552ms/epoch - 4ms/step\n",
            "Epoch 105/150\n",
            "154/154 - 1s - loss: 0.0163 - 593ms/epoch - 4ms/step\n",
            "Epoch 106/150\n",
            "154/154 - 1s - loss: 0.0123 - 561ms/epoch - 4ms/step\n",
            "Epoch 107/150\n",
            "154/154 - 1s - loss: 0.0112 - 611ms/epoch - 4ms/step\n",
            "Epoch 108/150\n",
            "154/154 - 1s - loss: 0.0158 - 621ms/epoch - 4ms/step\n",
            "Epoch 109/150\n",
            "154/154 - 1s - loss: 0.0138 - 571ms/epoch - 4ms/step\n",
            "Epoch 110/150\n",
            "154/154 - 1s - loss: 0.0120 - 594ms/epoch - 4ms/step\n",
            "Epoch 111/150\n",
            "154/154 - 1s - loss: 0.0178 - 536ms/epoch - 3ms/step\n",
            "Epoch 112/150\n",
            "154/154 - 1s - loss: 0.0197 - 603ms/epoch - 4ms/step\n",
            "Epoch 113/150\n",
            "154/154 - 1s - loss: 0.0225 - 544ms/epoch - 4ms/step\n",
            "Epoch 114/150\n",
            "154/154 - 1s - loss: 0.0142 - 585ms/epoch - 4ms/step\n",
            "Epoch 115/150\n",
            "154/154 - 1s - loss: 0.0094 - 559ms/epoch - 4ms/step\n",
            "Epoch 116/150\n",
            "154/154 - 1s - loss: 0.0072 - 774ms/epoch - 5ms/step\n",
            "Epoch 117/150\n",
            "154/154 - 1s - loss: 0.0070 - 1s/epoch - 8ms/step\n",
            "Epoch 118/150\n",
            "154/154 - 1s - loss: 0.0070 - 1s/epoch - 7ms/step\n",
            "Epoch 119/150\n",
            "154/154 - 1s - loss: 0.0084 - 1s/epoch - 9ms/step\n",
            "Epoch 120/150\n",
            "154/154 - 1s - loss: 0.0101 - 997ms/epoch - 6ms/step\n",
            "Epoch 121/150\n",
            "154/154 - 1s - loss: 0.0125 - 746ms/epoch - 5ms/step\n",
            "Epoch 122/150\n",
            "154/154 - 1s - loss: 0.0136 - 587ms/epoch - 4ms/step\n",
            "Epoch 123/150\n",
            "154/154 - 1s - loss: 0.0130 - 629ms/epoch - 4ms/step\n",
            "Epoch 124/150\n",
            "154/154 - 1s - loss: 0.0124 - 627ms/epoch - 4ms/step\n",
            "Epoch 125/150\n",
            "154/154 - 1s - loss: 0.0229 - 620ms/epoch - 4ms/step\n",
            "Epoch 126/150\n",
            "154/154 - 1s - loss: 0.0213 - 601ms/epoch - 4ms/step\n",
            "Epoch 127/150\n",
            "154/154 - 1s - loss: 0.0145 - 744ms/epoch - 5ms/step\n",
            "Epoch 128/150\n",
            "154/154 - 1s - loss: 0.0072 - 1s/epoch - 7ms/step\n",
            "Epoch 129/150\n",
            "154/154 - 1s - loss: 0.0075 - 555ms/epoch - 4ms/step\n",
            "Epoch 130/150\n",
            "154/154 - 1s - loss: 0.0054 - 610ms/epoch - 4ms/step\n",
            "Epoch 131/150\n",
            "154/154 - 1s - loss: 0.0055 - 573ms/epoch - 4ms/step\n",
            "Epoch 132/150\n",
            "154/154 - 1s - loss: 0.0042 - 577ms/epoch - 4ms/step\n",
            "Epoch 133/150\n",
            "154/154 - 1s - loss: 0.0066 - 566ms/epoch - 4ms/step\n",
            "Epoch 134/150\n",
            "154/154 - 1s - loss: 0.0080 - 554ms/epoch - 4ms/step\n",
            "Epoch 135/150\n",
            "154/154 - 1s - loss: 0.0110 - 860ms/epoch - 6ms/step\n",
            "Epoch 136/150\n",
            "154/154 - 1s - loss: 0.0128 - 973ms/epoch - 6ms/step\n",
            "Epoch 137/150\n",
            "154/154 - 1s - loss: 0.0184 - 920ms/epoch - 6ms/step\n",
            "Epoch 138/150\n",
            "154/154 - 1s - loss: 0.0204 - 995ms/epoch - 6ms/step\n",
            "Epoch 139/150\n",
            "154/154 - 1s - loss: 0.0145 - 707ms/epoch - 5ms/step\n",
            "Epoch 140/150\n",
            "154/154 - 1s - loss: 0.0113 - 610ms/epoch - 4ms/step\n",
            "Epoch 141/150\n",
            "154/154 - 1s - loss: 0.0080 - 639ms/epoch - 4ms/step\n",
            "Epoch 142/150\n",
            "154/154 - 1s - loss: 0.0064 - 576ms/epoch - 4ms/step\n",
            "Epoch 143/150\n",
            "154/154 - 1s - loss: 0.0071 - 592ms/epoch - 4ms/step\n",
            "Epoch 144/150\n",
            "154/154 - 1s - loss: 0.0077 - 575ms/epoch - 4ms/step\n",
            "Epoch 145/150\n",
            "154/154 - 1s - loss: 0.0088 - 581ms/epoch - 4ms/step\n",
            "Epoch 146/150\n",
            "154/154 - 1s - loss: 0.0091 - 599ms/epoch - 4ms/step\n",
            "Epoch 147/150\n",
            "154/154 - 1s - loss: 0.0092 - 565ms/epoch - 4ms/step\n",
            "Epoch 148/150\n",
            "154/154 - 1s - loss: 0.0087 - 580ms/epoch - 4ms/step\n",
            "Epoch 149/150\n",
            "154/154 - 1s - loss: 0.0082 - 556ms/epoch - 4ms/step\n",
            "Epoch 150/150\n",
            "154/154 - 1s - loss: 0.0072 - 606ms/epoch - 4ms/step\n"
          ]
        },
        {
          "output_type": "execute_result",
          "data": {
            "text/plain": [
              "<keras.src.callbacks.History at 0x7b4711c8fa60>"
            ]
          },
          "metadata": {},
          "execution_count": 76
        }
      ]
    },
    {
      "cell_type": "code",
      "source": [
        "# Make predictions\n",
        "y_lstm_pred = model.predict(lstm_X_test)"
      ],
      "metadata": {
        "colab": {
          "base_uri": "https://localhost:8080/"
        },
        "id": "9J3dr6yiL15L",
        "outputId": "1f2201be-4db2-4b52-952a-a9cc0a7d5ec4"
      },
      "execution_count": 77,
      "outputs": [
        {
          "output_type": "stream",
          "name": "stdout",
          "text": [
            "2/2 [==============================] - 1s 8ms/step\n"
          ]
        }
      ]
    },
    {
      "cell_type": "code",
      "source": [
        "y_lstm_pred"
      ],
      "metadata": {
        "colab": {
          "base_uri": "https://localhost:8080/"
        },
        "id": "nTu_skR4XiCl",
        "outputId": "1a391a1c-36c0-4edf-db9d-d52a69c81ef6"
      },
      "execution_count": 78,
      "outputs": [
        {
          "output_type": "execute_result",
          "data": {
            "text/plain": [
              "array([[ 0.00719041],\n",
              "       [-0.07714497],\n",
              "       [-0.7269842 ],\n",
              "       [-1.226853  ],\n",
              "       [-0.63612175],\n",
              "       [-2.458966  ],\n",
              "       [ 0.05428001],\n",
              "       [-0.03290477],\n",
              "       [ 1.1401759 ],\n",
              "       [ 0.18737112],\n",
              "       [-0.30936486],\n",
              "       [-1.2126536 ],\n",
              "       [ 1.519454  ],\n",
              "       [ 0.6075798 ],\n",
              "       [-0.62442917],\n",
              "       [ 0.95200354],\n",
              "       [ 0.9202857 ],\n",
              "       [ 1.2327976 ],\n",
              "       [ 1.2186424 ],\n",
              "       [-0.05113298],\n",
              "       [-1.671415  ],\n",
              "       [-0.18338431],\n",
              "       [-0.5704097 ],\n",
              "       [ 0.4018944 ],\n",
              "       [ 1.175355  ],\n",
              "       [ 0.6430666 ],\n",
              "       [ 0.77089304],\n",
              "       [-0.71243703],\n",
              "       [-0.8754385 ],\n",
              "       [ 0.18519254],\n",
              "       [ 0.0313392 ],\n",
              "       [ 2.172085  ],\n",
              "       [ 0.8727165 ],\n",
              "       [-0.7940997 ],\n",
              "       [ 0.55741173],\n",
              "       [ 0.72530127]], dtype=float32)"
            ]
          },
          "metadata": {},
          "execution_count": 78
        }
      ]
    },
    {
      "cell_type": "code",
      "source": [
        "lstm_y_test = lstm_y_test.reshape(-1,1)"
      ],
      "metadata": {
        "id": "YY-XPXttY5Tk"
      },
      "execution_count": 79,
      "outputs": []
    },
    {
      "cell_type": "code",
      "source": [
        "# Calculate evaluation metrics\n",
        "lstm_mse = mean_squared_error(lstm_y_test, y_lstm_pred)\n",
        "lstm_rmse = np.sqrt(lstm_mse)\n",
        "lstm_r2 = r2_score(lstm_y_test, y_lstm_pred)\n"
      ],
      "metadata": {
        "id": "IPz3J5qXODFM"
      },
      "execution_count": 80,
      "outputs": []
    },
    {
      "cell_type": "code",
      "source": [
        "print(f'Train MSE: {lstm_mse:.2f}')\n",
        "print(f'Train RMSE: {lstm_rmse:.2f}')\n",
        "print(f'Train R2: {lstm_r2:.2f}')"
      ],
      "metadata": {
        "colab": {
          "base_uri": "https://localhost:8080/"
        },
        "id": "kILzqBV1Nvia",
        "outputId": "beca5ab1-cb8e-4d6d-943b-e7e2f8e84c8b"
      },
      "execution_count": 81,
      "outputs": [
        {
          "output_type": "stream",
          "name": "stdout",
          "text": [
            "Train MSE: 1.84\n",
            "Train RMSE: 1.36\n",
            "Train R2: -0.75\n"
          ]
        }
      ]
    },
    {
      "cell_type": "markdown",
      "source": [
        "**Residual Plot**"
      ],
      "metadata": {
        "id": "LYf1VsNGZG7c"
      }
    },
    {
      "cell_type": "code",
      "source": [
        "# Residual plot\n",
        "plt.figure(figsize=(12, 6))\n",
        "plt.scatter(y_lstm_pred,(y_lstm_pred - lstm_y_test), c='orange', marker='s', label='Test data')\n",
        "plt.xlabel('Predicted values')\n",
        "plt.ylabel('Residuals')\n",
        "plt.legend(loc='upper left')\n",
        "plt.hlines(y=0, xmin=y_lstm_pred.min(), xmax=y_lstm_pred.max(), color='red')\n",
        "plt.title('Residual Plot')\n",
        "plt.show()"
      ],
      "metadata": {
        "colab": {
          "base_uri": "https://localhost:8080/",
          "height": 564
        },
        "id": "LeAlvnRaXEhM",
        "outputId": "ef65f43d-4c08-4d91-fe24-0e6a489c9f7a"
      },
      "execution_count": 82,
      "outputs": [
        {
          "output_type": "display_data",
          "data": {
            "text/plain": [
              "<Figure size 1200x600 with 1 Axes>"
            ],
            "image/png": "[encoded data removed]"
          },
          "metadata": {}
        }
      ]
    },
    {
      "cell_type": "markdown",
      "source": [
        "**Predicted vs Actual plot**"
      ],
      "metadata": {
        "id": "oMNFMBjHZ7i-"
      }
    },
    {
      "cell_type": "code",
      "source": [
        "# Predicted vs Actual plot\n",
        "plt.figure(figsize=(12, 6))\n",
        "plt.scatter(lstm_y_test, y_lstm_pred, c='orange', marker='s', label='Test data')\n",
        "plt.xlabel('Actual values')\n",
        "plt.ylabel('Predicted values')\n",
        "plt.legend(loc='upper left')\n",
        "plt.plot([y.min(), y.max()], [y.min(), y.max()], color='red')\n",
        "plt.title('Predicted vs Actual Plot')\n",
        "plt.show()"
      ],
      "metadata": {
        "colab": {
          "base_uri": "https://localhost:8080/",
          "height": 564
        },
        "id": "Bm88Lv_yZ3s3",
        "outputId": "cef80368-cdb0-4667-dd5c-79d20b4a0b75"
      },
      "execution_count": 83,
      "outputs": [
        {
          "output_type": "display_data",
          "data": {
            "text/plain": [
              "<Figure size 1200x600 with 1 Axes>"
            ],
            "image/png": "[encoded data removed]"
          },
          "metadata": {}
        }
      ]
    },
    {
      "cell_type": "markdown",
      "source": [
        "**Comaprison of Models**"
      ],
      "metadata": {
        "id": "wZn3ieXGaBv0"
      }
    },
    {
      "cell_type": "code",
      "source": [
        "\n",
        "# Create a dictionary to store model names and their MSE values\n",
        "models_r2 = {\n",
        "    \"Linear Regression\": r2_lr,\n",
        "    \"Decision Tree\": r2_dt,\n",
        "    \"Random Forest\": r2_rf,\n",
        "    \"LSTM\" : lstm_r2,\n",
        "    \"SVR\": r2_svr\n",
        "}\n",
        "\n",
        "# Sort models by descending order of accuracy\n",
        "sorted_models_r2 = dict(sorted(models_r2.items(), key=lambda item: item[1],reverse = True))\n",
        "\n",
        "# Plot the comparison\n",
        "plt.figure(figsize=(10, 6))\n",
        "plt.bar(sorted_models_r2.keys(), sorted_models_r2.values())\n",
        "plt.title('Comparison of Regression Models')\n",
        "plt.xlabel('Model')\n",
        "plt.ylabel('R2 Score')\n",
        "plt.xticks(rotation=45)\n",
        "plt.show()\n"
      ],
      "metadata": {
        "colab": {
          "base_uri": "https://localhost:8080/",
          "height": 647
        },
        "id": "iSlfBav7nSW7",
        "outputId": "0bff1676-f4cd-4127-d0b7-24a180178288"
      },
      "execution_count": 84,
      "outputs": [
        {
          "output_type": "display_data",
          "data": {
            "text/plain": [
              "<Figure size 1000x600 with 1 Axes>"
            ],
            "image/png": "[encoded data removed]"
          },
          "metadata": {}
        }
      ]
    },
    {
      "cell_type": "markdown",
      "source": [
        "## **NEW PREDICTIONS WITH RANDOM FORESR REGRESSOR**\n",
        "\n",
        "\n",
        "\n"
      ],
      "metadata": {
        "id": "NvZeqHqbmJ3x"
      }
    },
    {
      "cell_type": "markdown",
      "source": [
        "**Testing for New Inputs**"
      ],
      "metadata": {
        "id": "WvYRHPVemPUZ"
      }
    },
    {
      "cell_type": "code",
      "source": [
        "data.info()"
      ],
      "metadata": {
        "colab": {
          "base_uri": "https://localhost:8080/"
        },
        "id": "x_queBhZoXVR",
        "outputId": "bef5575c-82b4-456b-9e59-77362b981ba5"
      },
      "execution_count": 86,
      "outputs": [
        {
          "output_type": "stream",
          "name": "stdout",
          "text": [
            "<class 'pandas.core.frame.DataFrame'>\n",
            "Index: 198 entries, 0 to 199\n",
            "Data columns (total 4 columns):\n",
            " #   Column     Non-Null Count  Dtype  \n",
            "---  ------     --------------  -----  \n",
            " 0   TV         198 non-null    float64\n",
            " 1   Radio      198 non-null    float64\n",
            " 2   Newspaper  198 non-null    float64\n",
            " 3   Sales      198 non-null    float64\n",
            "dtypes: float64(4)\n",
            "memory usage: 7.7 KB\n"
          ]
        }
      ]
    },
    {
      "cell_type": "code",
      "source": [
        "import numpy as np\n",
        "\n",
        "# Given inputs\n",
        "#inputs = np.array([TV, Radio, NewsPaper])\n",
        "inputs = np.array([155,50,85])\n"
      ],
      "metadata": {
        "id": "2kfDPKzepgsC"
      },
      "execution_count": 87,
      "outputs": []
    },
    {
      "cell_type": "code",
      "source": [
        "new_inputs = scalerx.transform(inputs.reshape(1, -1))"
      ],
      "metadata": {
        "colab": {
          "base_uri": "https://localhost:8080/"
        },
        "id": "V_paDbN1pnQB",
        "outputId": "c9792cdf-36e9-4d01-a11c-b59d34ee60e1"
      },
      "execution_count": 88,
      "outputs": [
        {
          "output_type": "stream",
          "name": "stderr",
          "text": [
            "/usr/local/lib/python3.10/dist-packages/sklearn/base.py:439: UserWarning: X does not have valid feature names, but StandardScaler was fitted with feature names\n",
            "  warnings.warn(\n"
          ]
        }
      ]
    },
    {
      "cell_type": "markdown",
      "source": [
        "**Prediction**"
      ],
      "metadata": {
        "id": "UXzeuVOc6co_"
      }
    },
    {
      "cell_type": "code",
      "source": [
        "new_pred = random_model.predict(new_inputs).reshape(-1,1)"
      ],
      "metadata": {
        "id": "pHf9TNPs9pkC"
      },
      "execution_count": 89,
      "outputs": []
    },
    {
      "cell_type": "code",
      "source": [
        "n_pred = scalery.inverse_transform(new_pred)"
      ],
      "metadata": {
        "id": "4xScOS5k90yg"
      },
      "execution_count": 90,
      "outputs": []
    },
    {
      "cell_type": "code",
      "source": [
        "print(\"Sales Prediction : \", n_pred[0][0] )"
      ],
      "metadata": {
        "colab": {
          "base_uri": "https://localhost:8080/"
        },
        "id": "R-8sJAvQ-PZ_",
        "outputId": "63787488-8e64-4ea2-dddf-439f27abf46d"
      },
      "execution_count": 93,
      "outputs": [
        {
          "output_type": "stream",
          "name": "stdout",
          "text": [
            "Sales Prediction :  21.153\n"
          ]
        }
      ]
    }
  ]
}